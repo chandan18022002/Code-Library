{
 "cells": [
  {
   "cell_type": "code",
   "execution_count": 1,
   "id": "fe73a50b-7c5e-4c98-b26a-74ac5b5fa5f1",
   "metadata": {
    "tags": []
   },
   "outputs": [
    {
     "data": {
      "text/plain": [
       "(t1, t2, t3, t4, t5, t6)"
      ]
     },
     "execution_count": 1,
     "metadata": {},
     "output_type": "execute_result"
    }
   ],
   "source": [
    "from sympy import *\n",
    "var('q1 d1 a1 x1')\n",
    "var('q2 d2 a2 x2')\n",
    "var('q3 d3 a3 x3')\n",
    "var('q4 d4 a4 x4')\n",
    "var('q5 d5 a5 x5')\n",
    "var('q6 d6 a6 x6')\n",
    "var('q7 d7 a7 x7')\n",
    "var('q8 d8 a8 x8')\n",
    "var('x y z')\n",
    "var('t1 t2 t3 t4 t5 t6')"
   ]
  },
  {
   "cell_type": "code",
   "execution_count": 16,
   "id": "778bc470-6dd0-4202-849a-06762a6f57e8",
   "metadata": {
    "tags": []
   },
   "outputs": [
    {
     "data": {
      "text/latex": [
       "$\\displaystyle \\left[\\begin{matrix}\\cos{\\left(t_{1} \\right)} & 0 & \\sin{\\left(t_{1} \\right)} & 0\\\\\\sin{\\left(t_{1} \\right)} & 0 & - \\cos{\\left(t_{1} \\right)} & 0\\\\0 & 1 & 0 & 0\\\\0 & 0 & 0 & 1\\end{matrix}\\right]$"
      ],
      "text/plain": [
       "Matrix([\n",
       "[cos(t1), 0,  sin(t1), 0],\n",
       "[sin(t1), 0, -cos(t1), 0],\n",
       "[      0, 1,        0, 0],\n",
       "[      0, 0,        0, 1]])"
      ]
     },
     "execution_count": 16,
     "metadata": {},
     "output_type": "execute_result"
    }
   ],
   "source": [
    "A1 = Matrix([[ cos(q1),-sin(q1),       0,       0],\n",
    "             [ sin(q1), cos(q1),       0,       0],\n",
    "             [       0,       0,       1,       0],\n",
    "             [       0,       0,       0,       1]])\n",
    "\n",
    "B1 = Matrix([[       1,       0,       0,       a1],\n",
    "             [       0,       1,       0,       0],\n",
    "             [       0,       0,       1,       d1],\n",
    "             [       0,       0,       0,       1]])\n",
    "\n",
    "C1 = Matrix([[       1,       0,       0,       0],\n",
    "             [       0, cos(x1),-sin(x1),       0],\n",
    "             [       0, sin(x1), cos(x1),       0],\n",
    "             [       0,       0,       0,       1]])\n",
    "\n",
    "D1=A1*B1*C1\n",
    "E1=D1.subs([(q1,t1),\n",
    "            (d1,0),\n",
    "            (a1,0),\n",
    "            (x1,pi/2)])\n",
    "E1"
   ]
  },
  {
   "cell_type": "code",
   "execution_count": 17,
   "id": "9430ce97-afa7-4911-ac74-2a0af4b54c3e",
   "metadata": {
    "tags": []
   },
   "outputs": [
    {
     "data": {
      "text/latex": [
       "$\\displaystyle \\left[\\begin{matrix}\\cos{\\left(t_{2} \\right)} & - \\sin{\\left(t_{2} \\right)} & 0 & 200 \\cos{\\left(t_{2} \\right)}\\\\\\sin{\\left(t_{2} \\right)} & \\cos{\\left(t_{2} \\right)} & 0 & 200 \\sin{\\left(t_{2} \\right)}\\\\0 & 0 & 1 & 0\\\\0 & 0 & 0 & 1\\end{matrix}\\right]$"
      ],
      "text/plain": [
       "Matrix([\n",
       "[cos(t2), -sin(t2), 0, 200*cos(t2)],\n",
       "[sin(t2),  cos(t2), 0, 200*sin(t2)],\n",
       "[      0,        0, 1,           0],\n",
       "[      0,        0, 0,           1]])"
      ]
     },
     "execution_count": 17,
     "metadata": {},
     "output_type": "execute_result"
    }
   ],
   "source": [
    "A2 = Matrix([[ cos(q2),-sin(q2),       0,       0],\n",
    "             [ sin(q2), cos(q2),       0,       0],\n",
    "             [       0,       0,       1,       0],\n",
    "             [       0,       0,       0,       1]])\n",
    "\n",
    "B2 = Matrix([[       1,       0,       0,       a2],\n",
    "             [       0,       1,       0,       0],\n",
    "             [       0,       0,       1,       d2],\n",
    "             [       0,       0,       0,       1]])\n",
    "\n",
    "C2 = Matrix([[       1,       0,       0,       0],\n",
    "             [       0, cos(x2),-sin(x2),       0],\n",
    "             [       0, sin(x2), cos(x2),       0],\n",
    "             [       0,       0,       0,       1]])\n",
    "\n",
    "D2=A2*B2*C2\n",
    "E2=D2.subs([(q2,t2),\n",
    "            (d2,0),\n",
    "            (a2,200),\n",
    "            (x2,0)])\n",
    "E2"
   ]
  },
  {
   "cell_type": "code",
   "execution_count": 18,
   "id": "acf91036-b86f-4d53-a50e-713360f125aa",
   "metadata": {
    "tags": []
   },
   "outputs": [
    {
     "data": {
      "text/latex": [
       "$\\displaystyle \\left[\\begin{matrix}\\cos{\\left(t_{3} \\right)} & - \\sin{\\left(t_{3} \\right)} & 0 & 168 \\cos{\\left(t_{3} \\right)}\\\\\\sin{\\left(t_{3} \\right)} & \\cos{\\left(t_{3} \\right)} & 0 & 168 \\sin{\\left(t_{3} \\right)}\\\\0 & 0 & 1 & 0\\\\0 & 0 & 0 & 1\\end{matrix}\\right]$"
      ],
      "text/plain": [
       "Matrix([\n",
       "[cos(t3), -sin(t3), 0, 168*cos(t3)],\n",
       "[sin(t3),  cos(t3), 0, 168*sin(t3)],\n",
       "[      0,        0, 1,           0],\n",
       "[      0,        0, 0,           1]])"
      ]
     },
     "execution_count": 18,
     "metadata": {},
     "output_type": "execute_result"
    }
   ],
   "source": [
    "A3 = Matrix([[ cos(q3),-sin(q3),       0,       0],\n",
    "             [ sin(q3), cos(q3),       0,       0],\n",
    "             [       0,       0,       1,       0],\n",
    "             [       0,       0,       0,       1]])\n",
    "\n",
    "B3 = Matrix([[       1,       0,       0,       a3],\n",
    "             [       0,       1,       0,       0],\n",
    "             [       0,       0,       1,       d3],\n",
    "             [       0,       0,       0,       1]])\n",
    "\n",
    "C3 = Matrix([[       1,       0,       0,       0],\n",
    "             [       0, cos(x3),-sin(x3),       0],\n",
    "             [       0, sin(x3), cos(x3),       0],\n",
    "             [       0,       0,       0,       1]])\n",
    "\n",
    "D3=A3*B3*C3\n",
    "E3=D3.subs([(q3,t3),\n",
    "            (d3,0),\n",
    "            (a3,168),\n",
    "            (x3,0)])\n",
    "E3"
   ]
  },
  {
   "cell_type": "code",
   "execution_count": 20,
   "id": "4f97f855-5bfd-4b22-b289-5b6891fc481a",
   "metadata": {
    "tags": []
   },
   "outputs": [
    {
     "data": {
      "text/latex": [
       "$\\displaystyle \\left[\\begin{matrix}- \\sin{\\left(t_{2} \\right)} \\sin{\\left(t_{3} \\right)} \\cos{\\left(t_{1} \\right)} + \\cos{\\left(t_{1} \\right)} \\cos{\\left(t_{2} \\right)} \\cos{\\left(t_{3} \\right)} & - \\sin{\\left(t_{2} \\right)} \\cos{\\left(t_{1} \\right)} \\cos{\\left(t_{3} \\right)} - \\sin{\\left(t_{3} \\right)} \\cos{\\left(t_{1} \\right)} \\cos{\\left(t_{2} \\right)} & \\sin{\\left(t_{1} \\right)} & - 168 \\sin{\\left(t_{2} \\right)} \\sin{\\left(t_{3} \\right)} \\cos{\\left(t_{1} \\right)} + 168 \\cos{\\left(t_{1} \\right)} \\cos{\\left(t_{2} \\right)} \\cos{\\left(t_{3} \\right)} + 200 \\cos{\\left(t_{1} \\right)} \\cos{\\left(t_{2} \\right)}\\\\- \\sin{\\left(t_{1} \\right)} \\sin{\\left(t_{2} \\right)} \\sin{\\left(t_{3} \\right)} + \\sin{\\left(t_{1} \\right)} \\cos{\\left(t_{2} \\right)} \\cos{\\left(t_{3} \\right)} & - \\sin{\\left(t_{1} \\right)} \\sin{\\left(t_{2} \\right)} \\cos{\\left(t_{3} \\right)} - \\sin{\\left(t_{1} \\right)} \\sin{\\left(t_{3} \\right)} \\cos{\\left(t_{2} \\right)} & - \\cos{\\left(t_{1} \\right)} & - 168 \\sin{\\left(t_{1} \\right)} \\sin{\\left(t_{2} \\right)} \\sin{\\left(t_{3} \\right)} + 168 \\sin{\\left(t_{1} \\right)} \\cos{\\left(t_{2} \\right)} \\cos{\\left(t_{3} \\right)} + 200 \\sin{\\left(t_{1} \\right)} \\cos{\\left(t_{2} \\right)}\\\\\\sin{\\left(t_{2} \\right)} \\cos{\\left(t_{3} \\right)} + \\sin{\\left(t_{3} \\right)} \\cos{\\left(t_{2} \\right)} & - \\sin{\\left(t_{2} \\right)} \\sin{\\left(t_{3} \\right)} + \\cos{\\left(t_{2} \\right)} \\cos{\\left(t_{3} \\right)} & 0 & 168 \\sin{\\left(t_{2} \\right)} \\cos{\\left(t_{3} \\right)} + 200 \\sin{\\left(t_{2} \\right)} + 168 \\sin{\\left(t_{3} \\right)} \\cos{\\left(t_{2} \\right)}\\\\0 & 0 & 0 & 1\\end{matrix}\\right]$"
      ],
      "text/plain": [
       "Matrix([\n",
       "[-sin(t2)*sin(t3)*cos(t1) + cos(t1)*cos(t2)*cos(t3), -sin(t2)*cos(t1)*cos(t3) - sin(t3)*cos(t1)*cos(t2),  sin(t1), -168*sin(t2)*sin(t3)*cos(t1) + 168*cos(t1)*cos(t2)*cos(t3) + 200*cos(t1)*cos(t2)],\n",
       "[-sin(t1)*sin(t2)*sin(t3) + sin(t1)*cos(t2)*cos(t3), -sin(t1)*sin(t2)*cos(t3) - sin(t1)*sin(t3)*cos(t2), -cos(t1), -168*sin(t1)*sin(t2)*sin(t3) + 168*sin(t1)*cos(t2)*cos(t3) + 200*sin(t1)*cos(t2)],\n",
       "[                 sin(t2)*cos(t3) + sin(t3)*cos(t2),                 -sin(t2)*sin(t3) + cos(t2)*cos(t3),        0,                          168*sin(t2)*cos(t3) + 200*sin(t2) + 168*sin(t3)*cos(t2)],\n",
       "[                                                 0,                                                  0,        0,                                                                                1]])"
      ]
     },
     "execution_count": 20,
     "metadata": {},
     "output_type": "execute_result"
    }
   ],
   "source": [
    "E=E1*E2*E3\n",
    "E"
   ]
  },
  {
   "cell_type": "code",
   "execution_count": 21,
   "id": "8e75e011-db29-4692-b4fc-4a0f460053b1",
   "metadata": {
    "tags": []
   },
   "outputs": [
    {
     "data": {
      "text/latex": [
       "$\\displaystyle \\left[\\begin{matrix}- 168 \\sin{\\left(t_{2} \\right)} \\sin{\\left(t_{3} \\right)} \\cos{\\left(t_{1} \\right)} + 168 \\cos{\\left(t_{1} \\right)} \\cos{\\left(t_{2} \\right)} \\cos{\\left(t_{3} \\right)} + 200 \\cos{\\left(t_{1} \\right)} \\cos{\\left(t_{2} \\right)}\\\\- 168 \\sin{\\left(t_{1} \\right)} \\sin{\\left(t_{2} \\right)} \\sin{\\left(t_{3} \\right)} + 168 \\sin{\\left(t_{1} \\right)} \\cos{\\left(t_{2} \\right)} \\cos{\\left(t_{3} \\right)} + 200 \\sin{\\left(t_{1} \\right)} \\cos{\\left(t_{2} \\right)}\\\\168 \\sin{\\left(t_{2} \\right)} \\cos{\\left(t_{3} \\right)} + 200 \\sin{\\left(t_{2} \\right)} + 168 \\sin{\\left(t_{3} \\right)} \\cos{\\left(t_{2} \\right)}\\end{matrix}\\right]$"
      ],
      "text/plain": [
       "Matrix([\n",
       "[-168*sin(t2)*sin(t3)*cos(t1) + 168*cos(t1)*cos(t2)*cos(t3) + 200*cos(t1)*cos(t2)],\n",
       "[-168*sin(t1)*sin(t2)*sin(t3) + 168*sin(t1)*cos(t2)*cos(t3) + 200*sin(t1)*cos(t2)],\n",
       "[                         168*sin(t2)*cos(t3) + 200*sin(t2) + 168*sin(t3)*cos(t2)]])"
      ]
     },
     "execution_count": 21,
     "metadata": {},
     "output_type": "execute_result"
    }
   ],
   "source": [
    "F=E[:3,3]\n",
    "F"
   ]
  },
  {
   "cell_type": "code",
   "execution_count": 13,
   "id": "3893068d-358a-458c-b1a0-edfa67b9f376",
   "metadata": {},
   "outputs": [
    {
     "data": {
      "text/latex": [
       "$\\displaystyle \\left[\\begin{matrix}1 & 0 & 0 & 368\\\\0 & 0 & -1 & 0\\\\0 & 1 & 0 & 123\\\\0 & 0 & 0 & 1\\end{matrix}\\right]$"
      ],
      "text/plain": [
       "Matrix([\n",
       "[1, 0,  0, 368],\n",
       "[0, 0, -1,   0],\n",
       "[0, 1,  0, 123],\n",
       "[0, 0,  0,   1]])"
      ]
     },
     "execution_count": 13,
     "metadata": {},
     "output_type": "execute_result"
    }
   ],
   "source": [
    "E.subs([(t1,0),\n",
    "        (t2,0),\n",
    "        (t3,0)])"
   ]
  },
  {
   "cell_type": "code",
   "execution_count": 15,
   "id": "921eec4f-1c7d-4529-99e1-7c2fa420db99",
   "metadata": {
    "tags": []
   },
   "outputs": [
    {
     "data": {
      "text/latex": [
       "$\\displaystyle \\left[\\begin{matrix}368\\\\0\\\\123\\end{matrix}\\right]$"
      ],
      "text/plain": [
       "Matrix([\n",
       "[368],\n",
       "[  0],\n",
       "[123]])"
      ]
     },
     "execution_count": 15,
     "metadata": {},
     "output_type": "execute_result"
    }
   ],
   "source": [
    "F.subs([(t1,0),\n",
    "        (t2,0),\n",
    "        (t3,0)])\n",
    "# print(F[0].subs([(t1,0),(t2,pi/4),(t3,0)]))\n",
    "# print(F[1].subs([(t1,0),(t2,pi/4),(t3,0)]))\n",
    "# print(F[2].subs([(t1,0),(t2,pi/4),(t3,0)]))"
   ]
  },
  {
   "cell_type": "code",
   "execution_count": 9,
   "id": "448f59d0-ed20-4c79-8283-859bbff0a367",
   "metadata": {
    "tags": []
   },
   "outputs": [],
   "source": [
    "T=sqrt((E[0,3]**2)+(E[1,3]**2)+(E[2,3]**2))"
   ]
  },
  {
   "cell_type": "code",
   "execution_count": 10,
   "id": "1467d051-0f6b-494b-8241-4d040c2c1554",
   "metadata": {
    "tags": []
   },
   "outputs": [],
   "source": [
    "# T.subs([(t1,0),\n",
    "#         (t2,0),\n",
    "#         (t3,0),\n",
    "#         (t4,0),\n",
    "#         (t5,0),\n",
    "#         (t6,0)])"
   ]
  },
  {
   "cell_type": "code",
   "execution_count": null,
   "id": "a9ef593c-ebc0-48fc-9eb2-c0737042fd8d",
   "metadata": {},
   "outputs": [],
   "source": []
  }
 ],
 "metadata": {
  "kernelspec": {
   "display_name": "Python 3 (ipykernel)",
   "language": "python",
   "name": "python3"
  },
  "language_info": {
   "codemirror_mode": {
    "name": "ipython",
    "version": 3
   },
   "file_extension": ".py",
   "mimetype": "text/x-python",
   "name": "python",
   "nbconvert_exporter": "python",
   "pygments_lexer": "ipython3",
   "version": "3.8.2rc2"
  }
 },
 "nbformat": 4,
 "nbformat_minor": 5
}
