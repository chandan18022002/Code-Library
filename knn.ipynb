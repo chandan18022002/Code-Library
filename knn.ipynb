{
 "cells": [
  {
   "cell_type": "code",
   "execution_count": 18,
   "id": "b67d27a6-cdbd-4fde-b09e-4f81e43c7314",
   "metadata": {
    "tags": []
   },
   "outputs": [
    {
     "name": "stdout",
     "output_type": "stream",
     "text": [
      "Files imported successfully\n"
     ]
    }
   ],
   "source": [
    "import numpy as np\n",
    "# from keras.preprocessing import image\n",
    "import keras.utils as image\n",
    "import cv2 as cv\n",
    "import matplotlib.pyplot as plt\n",
    "from pathlib import Path\n",
    "from sklearn.model_selection import GridSearchCV, train_test_split\n",
    "from skimage.io import imread\n",
    "print(\"Files imported successfully\")\n",
    "import pandas as pd\n",
    "import warnings\n",
    "warnings.filterwarnings('ignore')\n",
    "pd.set_option('display.max_columns', 30*30 + 1)\n",
    "from IPython.display import clear_output"
   ]
  },
  {
   "cell_type": "code",
   "execution_count": 31,
   "id": "c50f0ae8-10a9-4c7f-adc6-5176a2f80447",
   "metadata": {
    "tags": []
   },
   "outputs": [
    {
     "name": "stdout",
     "output_type": "stream",
     "text": [
      "X_train: (264, 50, 50, 1)\n",
      "X_test: (33, 50, 50, 1)\n",
      "X_val: (33, 50, 50, 1)\n",
      "y_train: (264,)\n",
      "y_test: (33,)\n",
      "y_val: (33,)\n",
      "X_train: (264, 2500)\n",
      "X_test: (33, 2500)\n",
      "X_val: (33, 2500)\n",
      "y_train: (264,)\n",
      "y_test: (33,)\n",
      "y_val: (33,)\n"
     ]
    }
   ],
   "source": [
    "def load_image_files(container_path, dimension=(64, 64)):\n",
    "    image_dir = Path(container_path)\n",
    "    folders = [directory for directory in image_dir.iterdir() if directory.is_dir()]\n",
    "    print(folders)\n",
    "    categories = [fo.name for fo in folders]\n",
    "    print(categories)\n",
    "    descr = \"A image classification dataset\"\n",
    "    images = []\n",
    "    flat_data = []\n",
    "    target = []\n",
    "    count = 0\n",
    "    train_img = []\n",
    "    for i, direc in enumerate(folders):\n",
    "        print(direc)\n",
    "        for file in direc.iterdir():\n",
    "            print(file)\n",
    "            count += 1\n",
    "            img = imread(file)\n",
    "            # if(img.shape==3):\n",
    "            img = cv.cvtColor(img, cv.COLOR_BGR2GRAY)\n",
    "            img_pred = cv.resize(img, (50, 50), interpolation=cv.INTER_AREA)\n",
    "            img_pred = image.img_to_array(img_pred)\n",
    "            img_pred = img_pred / 255\n",
    "            train_img.append(img_pred)\n",
    "            clear_output(wait=True)\n",
    "\n",
    "    X = np.array(train_img)\n",
    "\n",
    "    return X\n",
    "\n",
    "X = []\n",
    "# X = load_image_files(\"knn_mask_cashew/train\")\n",
    "X = load_image_files(\"knn_cashew_data/train\")\n",
    "\n",
    "y0 = np.zeros(150)\n",
    "#2000 is the number of Cats in X\n",
    "y1 = np.ones(180)\n",
    "#2134 is the number of Dogs in X\n",
    "y = []\n",
    "y = np.concatenate((y0,y1), axis=0)\n",
    "X_train, X_test, y_train, y_test = train_test_split(X, y, random_state=42, test_size=0.2)\n",
    "X_val, X_test, y_val, y_test = train_test_split(X_test, y_test, random_state=42, test_size=0.5)\n",
    "print(\"X_train: \"+str(X_train.shape))\n",
    "print(\"X_test: \"+str(X_test.shape))\n",
    "print(\"X_val: \"+str(X_val.shape))\n",
    "print(\"y_train: \"+str(y_train.shape))\n",
    "print(\"y_test: \"+str(y_test.shape))\n",
    "print(\"y_val: \"+str(y_val.shape))\n",
    "\n",
    "from builtins import range\n",
    "from builtins import object\n",
    "\n",
    "num_training = X_train.shape[0]\n",
    "mask = list(range(num_training))\n",
    "X_train = X_train[mask]\n",
    "y_train = y_train[mask]\n",
    "\n",
    "num_test = X_test.shape[0]\n",
    "mask = list(range(num_test))\n",
    "X_test = X_test[mask]\n",
    "y_test = y_test[mask]\n",
    "\n",
    "num_val = X_val.shape[0]\n",
    "mask = list(range(num_val))\n",
    "X_val = X_val[mask]\n",
    "y_val = y_val[mask]\n",
    "\n",
    "# Reshape the image data into rows\n",
    "X_train = np.reshape(X_train, (X_train.shape[0], -1))\n",
    "X_test = np.reshape(X_test, (X_test.shape[0], -1))\n",
    "X_val = np.reshape(X_val, (X_val.shape[0], -1))\n",
    "\n",
    "print(\"X_train: \"+str(X_train.shape))\n",
    "print(\"X_test: \"+str(X_test.shape))\n",
    "print(\"X_val: \"+str(X_val.shape))\n",
    "print(\"y_train: \"+str(y_train.shape))\n",
    "print(\"y_test: \"+str(y_test.shape))\n",
    "print(\"y_val: \"+str(y_val.shape))"
   ]
  },
  {
   "cell_type": "code",
   "execution_count": 32,
   "id": "08593f8f-aedd-4cbb-8b72-e0aea7ca6482",
   "metadata": {
    "tags": []
   },
   "outputs": [],
   "source": [
    "class KNearestNeighbor(object):\n",
    "    \"\"\" a kNN classifier with L2 distance \"\"\"\n",
    "\n",
    "    def __init__(self):\n",
    "        pass\n",
    "\n",
    "    def predict_label(self, dists, k=1):\n",
    "        num_test = dists.shape[0]\n",
    "        y_pred = np.zeros(num_test)\n",
    "        for i in range(num_test):\n",
    "            closest_y = []\n",
    "            closest_y = self.y_train[np.argsort(dists[i])][0:k]\n",
    "            y_pred[i] = np.bincount(closest_y).argmax()\n",
    "        return y_pred\n",
    "\n",
    "    def train(self, X, y):\n",
    "        \"\"\"\n",
    "        Train the classifier. For k-nearest neighbors this is just\n",
    "        memorizing the training data.\n",
    "\n",
    "        Inputs:\n",
    "        - X: A numpy array of shape (num_train, D) containing the training data\n",
    "          consisting of num_train samples each of dimension D.\n",
    "        - y: A numpy array of shape (N,) containing the training labels, where\n",
    "             y[i] is the label for X[i].\n",
    "        \"\"\"\n",
    "        self.X_train = X\n",
    "        self.y_train = y\n",
    "\n",
    "    def predict(self, X, k=1):\n",
    "        \"\"\"\n",
    "        Predict labels for test data using this classifier.\n",
    "\n",
    "        Inputs:\n",
    "        - X: A numpy array of shape (num_test, D) containing test data consisting\n",
    "             of num_test samples each of dimension D.\n",
    "        - k: The number of nearest neighbors that vote for the predicted labels.\n",
    "        - num_loops: Determines which implementation to use to compute distances\n",
    "          between training points and testing points.\n",
    "\n",
    "        Returns:\n",
    "        - y: A numpy array of shape (num_test,) containing predicted labels for the\n",
    "          test data, where y[i] is the predicted label for the test point X[i].\n",
    "        \"\"\"\n",
    "        dists = self.compute_distances_no_loops(X)\n",
    "\n",
    "        return self.predict_labels(dists, k=k)\n",
    "\n",
    "    def compute_distances_no_loops(self, X):\n",
    "        \"\"\"\n",
    "        Compute the distance between each test point in X and each training point\n",
    "        in self.X_train using no explicit loops.\n",
    "\n",
    "        Input / Output: Same as compute_distances_two_loops\n",
    "        \"\"\"\n",
    "        num_test = X.shape[0]\n",
    "        num_train = self.X_train.shape[0]\n",
    "        dists = np.zeros((num_test, num_train))\n",
    "        #########################################################################\n",
    "        dists = np.sqrt((X ** 2).sum(axis=1, keepdims=1) + (self.X_train ** 2).sum(axis=1) - 2 * X.dot(self.X_train.T))\n",
    "\n",
    "        return dists\n",
    "\n",
    "    def predict_labels(self, dists, k=1):\n",
    "        \"\"\"\n",
    "        Given a matrix of distances between test points and training points,\n",
    "        predict a label for each test point.\n",
    "\n",
    "        Inputs:\n",
    "        - dists: A numpy array of shape (num_test, num_train) where dists[i, j]\n",
    "          gives the distance betwen the ith test point and the jth training point.\n",
    "\n",
    "        Returns:\n",
    "        - y: A numpy array of shape (num_test,) containing predicted labels for the\n",
    "          test data, where y[i] is the predicted label for the test point X[i].\n",
    "        \"\"\"\n",
    "        num_test = dists.shape[0]\n",
    "        y_pred = np.zeros(num_test)\n",
    "        for i in range(num_test):\n",
    "            # A list of length k storing the labels of the k nearest neighbors to\n",
    "            # the ith test point.\n",
    "            closest_y = []\n",
    "            closest_y = self.y_train[np.argsort(dists[i])][0:k]\n",
    "            closest_y = closest_y.astype(int)\n",
    "            y_pred[i] = np.bincount(closest_y).argmax()\n",
    "        return y_pred"
   ]
  },
  {
   "cell_type": "code",
   "execution_count": 33,
   "id": "80f35aec-33d3-4684-b28a-a4d51a220fc9",
   "metadata": {
    "tags": []
   },
   "outputs": [
    {
     "name": "stdout",
     "output_type": "stream",
     "text": [
      "Val Accuracy for k=1\n",
      "Got 28 / 33 correct => accuracy: 0.848485\n"
     ]
    }
   ],
   "source": [
    "print(\"Val Accuracy for k=1\")\n",
    "classifier = KNearestNeighbor()\n",
    "classifier.train(X_train, y_train)\n",
    "dists = classifier.compute_distances_no_loops(X_val)\n",
    "y_val_pred = classifier.predict_labels(dists, k=1)\n",
    "num_correct = np.sum(y_val_pred == y_val)\n",
    "accuracy = float(num_correct) / num_val\n",
    "print('Got %d / %d correct => accuracy: %f' % (num_correct, num_val, accuracy))"
   ]
  },
  {
   "cell_type": "code",
   "execution_count": 34,
   "id": "a7c1879a-2afa-4565-ac54-ae933c73632c",
   "metadata": {
    "tags": []
   },
   "outputs": [
    {
     "data": {
      "image/png": "[encoded data removed]",
      "text/plain": [
       "<Figure size 640x480 with 1 Axes>"
      ]
     },
     "metadata": {},
     "output_type": "display_data"
    },
    {
     "name": "stdout",
     "output_type": "stream",
     "text": [
      "max acc at k=3 acc of 0.9090909090909091\n"
     ]
    }
   ],
   "source": [
    "print(\"Using SKLEARN\")\n",
    "lix = []\n",
    "liy = []\n",
    "index=0\n",
    "acc=0\n",
    "from sklearn.neighbors import KNeighborsClassifier\n",
    "for k in range(1, 100):\n",
    "    print(k)\n",
    "    neigh = KNeighborsClassifier(n_neighbors=k)\n",
    "    neigh.fit(X_train, y_train)\n",
    "    liy.append(neigh.score(X_val, y_val))\n",
    "    if liy[k-1]>acc:\n",
    "        acc=liy[k-1]\n",
    "        index=k-1\n",
    "    lix.append(k)\n",
    "    clear_output(wait=True)\n",
    "\n",
    "plt.plot(lix, liy)\n",
    "plt.show()\n",
    "print(\"max acc at k=\"+str(index+1)+\" acc of \"+str(acc))"
   ]
  },
  {
   "cell_type": "code",
   "execution_count": 35,
   "id": "a3b8f6d7-215e-46e7-95a9-3101a17f10ef",
   "metadata": {
    "tags": []
   },
   "outputs": [
    {
     "name": "stdout",
     "output_type": "stream",
     "text": [
      "Test Accuracy: 0.6363636363636364\n",
      "Using our own k-NN\n",
      "With k = 43 Got 24 / 33 correct => accuracy: 0.727273\n"
     ]
    }
   ],
   "source": [
    "neigh = KNeighborsClassifier(n_neighbors=43)\n",
    "neigh.fit(X_train, y_train)\n",
    "print(\"Test Accuracy: \"+str(neigh.score(X_test, y_test)))\n",
    "\n",
    "print(\"Using our own k-NN\")\n",
    "classifier = KNearestNeighbor()\n",
    "classifier.train(X_train, y_train)\n",
    "dists = classifier.compute_distances_no_loops(X_test)\n",
    "y_test_pred = classifier.predict_labels(dists, k=3)\n",
    "num_correct = np.sum(y_test_pred == y_test)\n",
    "accuracy = float(num_correct) / num_test\n",
    "print('With k = 43 Got %d / %d correct => accuracy: %f' % (num_correct, num_test, accuracy))"
   ]
  },
  {
   "cell_type": "code",
   "execution_count": 36,
   "id": "16bef390-75c7-480a-9eab-71d60a28c48c",
   "metadata": {
    "tags": []
   },
   "outputs": [
    {
     "name": "stdout",
     "output_type": "stream",
     "text": [
      "Predicting custom image\n",
      "400\n"
     ]
    }
   ],
   "source": [
    "print(\"Predicting custom image\")\n",
    "img = cv.imread(\"cashew_data/train/400/100.png\")\n",
    "img = cv.cvtColor(img, cv.COLOR_BGR2GRAY)\n",
    "img_pred = cv.resize(img, (50, 50), interpolation=cv.INTER_AREA)\n",
    "img_pred = image.img_to_array(img_pred)\n",
    "img_pred = img_pred/255\n",
    "img_pred = np.reshape(img_pred, (1, img_pred.shape[0]*img_pred.shape[1]))\n",
    "\n",
    "classifier2 = KNearestNeighbor()\n",
    "classifier2.train(X_train, y_train)\n",
    "# Test your implementation:\n",
    "dists2 = classifier2.compute_distances_no_loops(img_pred)\n",
    "labels = [\"320\", \"400\"]\n",
    "y_test_pred = classifier2.predict_labels(dists2, k=3)\n",
    "print(labels[int(y_test_pred)])"
   ]
  },
  {
   "cell_type": "code",
   "execution_count": 17,
   "id": "a03f25c6-569c-420c-a791-27987761047f",
   "metadata": {},
   "outputs": [
    {
     "name": "stdout",
     "output_type": "stream",
     "text": [
      "Escape hit, closing...\n"
     ]
    }
   ],
   "source": [
    "import cv2\n",
    "\n",
    "cam = cv2.VideoCapture(1,cv2.CAP_DSHOW)\n",
    "cv2.namedWindow(\"test\")\n",
    "\n",
    "classifier2 = KNearestNeighbor()\n",
    "classifier2.train(X_train, y_train)\n",
    "\n",
    "while True:\n",
    "    ret, frame = cam.read()\n",
    "    if not ret:\n",
    "        print(\"failed to grab frame\")\n",
    "        break\n",
    "    frame=frame[:,125:-50]\n",
    "    \n",
    "    img=frame\n",
    "    img = cv.cvtColor(img, cv.COLOR_BGR2GRAY)\n",
    "    img_pred = cv.resize(img, (50, 50), interpolation=cv.INTER_AREA)\n",
    "    img_pred = image.img_to_array(img_pred)\n",
    "    img_pred = img_pred/255\n",
    "    img_pred = np.reshape(img_pred, (1, img_pred.shape[0]*img_pred.shape[1]))\n",
    "    # Test your implementation:\n",
    "    dists2 = classifier2.compute_distances_no_loops(img_pred)\n",
    "    labels = [\"320\", \"400\"]\n",
    "    y_test_pred = classifier2.predict_labels(dists2, k=3)\n",
    "    print(labels[int(y_test_pred)])\n",
    "    \n",
    "    cv2.imshow(\"test\", frame)\n",
    "    clear_output(wait=True)\n",
    "    \n",
    "    k = cv2.waitKey(1)\n",
    "    if k%256 == 27:\n",
    "        # ESC pressed\n",
    "        print(\"Escape hit, closing...\")\n",
    "        break\n",
    "\n",
    "cam.release()\n",
    "cv2.destroyAllWindows()"
   ]
  },
  {
   "cell_type": "code",
   "execution_count": null,
   "id": "ad8e1777-d7fc-438e-96a8-81d7c2c8651c",
   "metadata": {},
   "outputs": [],
   "source": []
  }
 ],
 "metadata": {
  "kernelspec": {
   "display_name": "Python 3 (ipykernel)",
   "language": "python",
   "name": "python3"
  },
  "language_info": {
   "codemirror_mode": {
    "name": "ipython",
    "version": 3
   },
   "file_extension": ".py",
   "mimetype": "text/x-python",
   "name": "python",
   "nbconvert_exporter": "python",
   "pygments_lexer": "ipython3",
   "version": "3.8.2rc2"
  }
 },
 "nbformat": 4,
 "nbformat_minor": 5
}
