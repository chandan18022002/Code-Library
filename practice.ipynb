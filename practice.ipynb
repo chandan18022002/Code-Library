{
 "cells": [
  {
   "cell_type": "code",
   "execution_count": 1,
   "id": "3c462161-c4e0-4afd-b5ce-7c6d495f9a8b",
   "metadata": {
    "tags": []
   },
   "outputs": [],
   "source": [
    "import math as m"
   ]
  },
  {
   "cell_type": "code",
   "execution_count": 38,
   "id": "6422020b-8cd2-495c-a37d-6dcd0c8dc1df",
   "metadata": {},
   "outputs": [
    {
     "name": "stdout",
     "output_type": "stream",
     "text": [
      "300 -200 123 0.0 0.0 0.0\n",
      "278.0 -200.0 0.0 342.4675167077894\n"
     ]
    }
   ],
   "source": [
    "x=300\n",
    "y=200\n",
    "z=123\n",
    "al1=0\n",
    "al2=0\n",
    "al3=0\n",
    "\n",
    "rad=3.14159265359/180\n",
    "deg=180/3.14159265359\n",
    "# p=1\n",
    "\n",
    "# x=x/100\n",
    "# y=y/100\n",
    "# z=z/100\n",
    "\n",
    "al1=al1*rad\n",
    "al2=al2*rad\n",
    "al3=al3*rad\n",
    "\n",
    "a=22*m.cos(al1)*m.cos(al2)\n",
    "b=22*m.cos(al1)*m.sin(al2)\n",
    "c=22*m.sin(al1)\n",
    "\n",
    "y=-y\n",
    "x1=x-a\n",
    "y1=y-b\n",
    "z1=z-123-c\n",
    "\n",
    "xy=m.sqrt((x1*x1)+(y1*y1))\n",
    "\n",
    "print(x,y,z,al1,al2,al3)\n",
    "print(x1,y1,z1,xy)"
   ]
  },
  {
   "cell_type": "code",
   "execution_count": 39,
   "id": "083df9d1-5e33-4003-9333-94268de39ece",
   "metadata": {
    "tags": []
   },
   "outputs": [
    {
     "data": {
      "text/plain": [
       "-35.73216373717654"
      ]
     },
     "execution_count": 39,
     "metadata": {},
     "output_type": "execute_result"
    }
   ],
   "source": [
    "if(y1<0):\n",
    "    tq1=-m.acos(x1/m.sqrt(y1**2+x1**2))\n",
    "else:\n",
    "    tq1=m.acos(x1/m.sqrt(y1**2+x1**2))\n",
    "tq1*deg"
   ]
  },
  {
   "cell_type": "code",
   "execution_count": 40,
   "id": "6feb16ce-4a49-40cf-805c-d326a33c3a6d",
   "metadata": {
    "tags": []
   },
   "outputs": [
    {
     "data": {
      "text/plain": [
       "19.58707521512216"
      ]
     },
     "execution_count": 40,
     "metadata": {},
     "output_type": "execute_result"
    }
   ],
   "source": [
    "if z1<0:\n",
    "    zs=-1\n",
    "else:\n",
    "    zs=1\n",
    "tq2=m.acos(round((((xy**2+z1**2+200**2-168**2)/400)/m.sqrt(xy**2+z1**2)),7))+m.acos(round((xy/m.sqrt(xy**2+z1**2)),7))*zs\n",
    "tq2*deg"
   ]
  },
  {
   "cell_type": "code",
   "execution_count": 41,
   "id": "fed94cca-0e74-4c2e-87db-78f09e69d0b4",
   "metadata": {
    "tags": []
   },
   "outputs": [
    {
     "data": {
      "text/plain": [
       "-43.10861562331847"
      ]
     },
     "execution_count": 41,
     "metadata": {},
     "output_type": "execute_result"
    }
   ],
   "source": [
    "if z1<200*m.sin(tq2):\n",
    "    tq3=-m.acos((xy-(200*m.cos(tq2)))/168)-tq2\n",
    "else:\n",
    "    tq3=m.acos((xy-(200*m.cos(tq2)))/168)-tq2\n",
    "    \n",
    "tq3*deg"
   ]
  },
  {
   "cell_type": "code",
   "execution_count": 42,
   "id": "04690328-a69b-47f0-9cb4-8c811bbb76c5",
   "metadata": {
    "tags": []
   },
   "outputs": [
    {
     "name": "stdout",
     "output_type": "stream",
     "text": [
      "300 -200 123\n",
      "278.0 -200.0 0.0\n",
      "290.1878476296227 -208.76823570476455 -129.53506393499654\n",
      "9.812152370377305 8.76823570476455 252.53506393499654\n"
     ]
    }
   ],
   "source": [
    "A=m.cos(tq2+tq3)*m.cos(tq1)\n",
    "B=m.cos(tq2+tq3)*m.sin(tq1)\n",
    "C=m.sin(tq2+tq3)\n",
    "\n",
    "d=-(A*x+B*y+C*z)\n",
    "\n",
    "dn=(A*x1+B*y1+C*(z1+123)+d)\n",
    "\n",
    "o=-dn/(A**2+B**2+C**2)\n",
    "ox=x1+o*A\n",
    "oy=y1+o*B\n",
    "oz=z1+o*C-123\n",
    "\n",
    "x2=x-ox\n",
    "y2=y-oy\n",
    "z2=z-oz\n",
    "\n",
    "print(x,y,z)\n",
    "print(x1,y1,z1)\n",
    "print(ox,oy,oz)\n",
    "print(x2,y2,z2)"
   ]
  },
  {
   "cell_type": "code",
   "execution_count": 43,
   "id": "77b78a74-23d8-4587-b081-dfadba533f14",
   "metadata": {
    "tags": []
   },
   "outputs": [
    {
     "name": "stdout",
     "output_type": "stream",
     "text": [
      "0.09867712870718275\n"
     ]
    },
    {
     "data": {
      "text/plain": [
       "5.6629987608172145"
      ]
     },
     "execution_count": 43,
     "metadata": {},
     "output_type": "execute_result"
    }
   ],
   "source": [
    "t=(A*(x1-x)+B*(y1-y)+C*(z1-z-123))/(A**2+B**2+C**2)\n",
    "ops=((x+t*A)*m.sin(-tq1)+(y+t*B)*m.cos(-tq1))\n",
    "hyp=m.sqrt((x-x1+t*A)**2+(y-y1+t*B)**2+(z-z1+t*C)**2)\n",
    "print(ops/hyp)\n",
    "tq4=m.asin(ops/hyp)\n",
    "tq4*deg"
   ]
  },
  {
   "cell_type": "code",
   "execution_count": 46,
   "id": "01362d04-49d7-4524-8185-3f75a1e7dfa8",
   "metadata": {
    "tags": []
   },
   "outputs": [
    {
     "data": {
      "text/plain": [
       "2.9122754840384655"
      ]
     },
     "execution_count": 46,
     "metadata": {},
     "output_type": "execute_result"
    }
   ],
   "source": [
    "if(z2<0):\n",
    "    tq4=-m.asin(round(((x2*m.sin(-tq1)+y2*m.cos(-tq1))/(m.sqrt(y2**2+x2**2+z2**2))),12))\n",
    "else:\n",
    "    tq4=m.asin(round(((x2*m.sin(-tq1)+y2*m.cos(-tq1))/(m.sqrt(y2**2+x2**2+z2**2))),12))\n",
    "tq4*deg"
   ]
  },
  {
   "cell_type": "code",
   "execution_count": 34,
   "id": "5f8e5f2c-b5f3-40c5-95af-06da78d6224b",
   "metadata": {
    "tags": []
   },
   "outputs": [
    {
     "data": {
      "text/plain": [
       "44.29496741905756"
      ]
     },
     "execution_count": 34,
     "metadata": {},
     "output_type": "execute_result"
    }
   ],
   "source": [
    "if(dn<0):\n",
    "    dn=-dn\n",
    "ds=dn/m.sqrt(A**2+B**2+C**2)\n",
    "\n",
    "tq5=m.acos((ds/22))\n",
    "\n",
    "tq5*deg"
   ]
  },
  {
   "cell_type": "code",
   "execution_count": 25,
   "id": "1e3c728e-f9d2-4958-8821-f5fe5b7919d3",
   "metadata": {
    "tags": []
   },
   "outputs": [
    {
     "data": {
      "text/plain": [
       "0.0"
      ]
     },
     "execution_count": 25,
     "metadata": {},
     "output_type": "execute_result"
    }
   ],
   "source": [
    "tq6=al3\n",
    "tq6*deg"
   ]
  },
  {
   "cell_type": "code",
   "execution_count": null,
   "id": "f917c852-7151-4238-934f-22c61e165954",
   "metadata": {},
   "outputs": [],
   "source": []
  }
 ],
 "metadata": {
  "kernelspec": {
   "display_name": "Python 3 (ipykernel)",
   "language": "python",
   "name": "python3"
  },
  "language_info": {
   "codemirror_mode": {
    "name": "ipython",
    "version": 3
   },
   "file_extension": ".py",
   "mimetype": "text/x-python",
   "name": "python",
   "nbconvert_exporter": "python",
   "pygments_lexer": "ipython3",
   "version": "3.8.2rc2"
  }
 },
 "nbformat": 4,
 "nbformat_minor": 5
}
