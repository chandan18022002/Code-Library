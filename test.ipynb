{
 "cells": [
  {
   "cell_type": "code",
   "execution_count": null,
   "id": "51d7a331-aac9-4c97-86ce-603f57fc84db",
   "metadata": {},
   "outputs": [],
   "source": [
    "from rplidar import RPLidar\n",
    "import time\n",
    "lidar = RPLidar(\"COM9\")\n",
    "\n",
    "info = lidar.get_info()\n",
    "#print(info)\n",
    "\n",
    "health = lidar.get_health()\n",
    "#print(health)\n",
    "print('start')\n",
    "time.sleep(0)\n",
    "for i, scan in enumerate(lidar.iter_scans()):\n",
    "    time.sleep(10)\n",
    "    print('%d: Got %d measurments' % (i, len(scan)))\n",
    "    if i >= 3:\n",
    "        with open('data.txt', 'w+') as f:\n",
    "            j=0\n",
    "            while j<len(scan):\n",
    "                f.write(str(scan[j][1])+','+str(scan[j][2])+'\\n')\n",
    "                j=j+1\n",
    "            print(\"File written successfully\")\n",
    "        f.close()\n",
    "        break\n",
    "time.sleep(0)\n",
    "print('end')\n",
    "lidar.stop()\n",
    "lidar.stop_motor()\n",
    "lidar.disconnect()"
   ]
  },
  {
   "cell_type": "code",
   "execution_count": null,
   "id": "ce5b93b4-af73-47e1-8c64-5f6aa630342b",
   "metadata": {},
   "outputs": [],
   "source": []
  }
 ],
 "metadata": {
  "kernelspec": {
   "display_name": "lidar",
   "language": "python",
   "name": "lidar"
  },
  "language_info": {
   "codemirror_mode": {
    "name": "ipython",
    "version": 3
   },
   "file_extension": ".py",
   "mimetype": "text/x-python",
   "name": "python",
   "nbconvert_exporter": "python",
   "pygments_lexer": "ipython3",
   "version": "3.10.6"
  }
 },
 "nbformat": 4,
 "nbformat_minor": 5
}
