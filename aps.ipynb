{
 "cells": [
  {
   "cell_type": "markdown",
   "id": "39da6f8b-e0f6-4870-8309-faa2f0781d55",
   "metadata": {
    "tags": []
   },
   "source": [
    "# 0"
   ]
  },
  {
   "cell_type": "code",
   "execution_count": 1,
   "id": "1fff235c-c05a-4eea-ba56-3a3cd4630821",
   "metadata": {},
   "outputs": [
    {
     "name": "stdout",
     "output_type": "stream",
     "text": [
      "grace\n"
     ]
    }
   ],
   "source": [
    "a = [\"graces\", \"graceful\",\"disgraceful\", \"gracefully\"]\n",
    "n=len(a)\n",
    "na1=len(a[0])\n",
    "s=''\n",
    "for i in range(na1):\n",
    "    for j in range(i+1):\n",
    "        t=a[0][j:na1-i+j]\n",
    "        f=0\n",
    "        for k in range(1,n):\n",
    "            if t not in a[k]:\n",
    "                f=1\n",
    "                break\n",
    "        if(len(s)<=len(t) and f==0):\n",
    "            s=t\n",
    "            break\n",
    "    if(f==0):\n",
    "        break\n",
    "print(s)"
   ]
  },
  {
   "cell_type": "code",
   "execution_count": 2,
   "id": "7c96eea2-f6bc-46b8-8cfd-ca8d164abfaa",
   "metadata": {},
   "outputs": [
    {
     "name": "stdout",
     "output_type": "stream",
     "text": [
      "1 5 \n",
      "162\n"
     ]
    }
   ],
   "source": [
    "val = [60 ,100,120,1,102]\n",
    "wt =  [10 ,20 ,30 ,9,29 ]\n",
    "ids = [1  ,2  ,3  ,4,5  ]\n",
    "W = 39\n",
    "n = len(val)\n",
    "\n",
    "K = [[0 for w in range(W + 1)]for i in range(n + 1)]\n",
    "for i in range(n + 1):\n",
    "    for w in range(W + 1):\n",
    "        if i == 0 or w == 0:\n",
    "            K[i][w] = 0\n",
    "        elif wt[i - 1] <= w:\n",
    "            K[i][w] = max(val[i - 1]+ K[i - 1][w - wt[i - 1]],K[i - 1][w])\n",
    "        else:\n",
    "            K[i][w] = K[i - 1][w]\n",
    "res = K[n][W]\n",
    "value=res\n",
    "w = W\n",
    "out=[]\n",
    "for i in range(n, 0, -1):\n",
    "    if res <= 0:\n",
    "        break\n",
    "    if res == K[i - 1][w]:\n",
    "        continue\n",
    "    else:\n",
    "        out.append(ids[i - 1])\n",
    "        res = res - val[i - 1]\n",
    "        w = w - wt[i - 1]\n",
    "out.sort()\n",
    "if(len(out)>0):\n",
    "    for i in range(len(out)):\n",
    "        print(out[i],end=' ')\n",
    "    print()\n",
    "    print(value)\n",
    "else:\n",
    "    print(-1)"
   ]
  },
  {
   "cell_type": "markdown",
   "id": "7bb51283-9cc9-4dd2-98e2-6018b70b7458",
   "metadata": {},
   "source": [
    "# Subsequence of 2 strings using Dynamic Programming"
   ]
  },
  {
   "cell_type": "code",
   "execution_count": 8,
   "id": "9f87923f-516b-4b77-ac91-f6636cf9d8fe",
   "metadata": {},
   "outputs": [
    {
     "name": "stdout",
     "output_type": "stream",
     "text": [
      "3\n",
      "[0, 0, 0, 0, 0, 0, 0]\n",
      "[0, 0, 0, 1, 1, 1, 1]\n",
      "[0, 1, 1, 1, 2, 2, 2]\n",
      "[0, 1, 1, 1, 2, 2, 3]\n",
      "[0, 1, 2, 2, 2, 2, 3]\n",
      "[0, 1, 2, 3, 3, 3, 3]\n"
     ]
    }
   ],
   "source": [
    "s1 = 'abcda'\n",
    "s2 = 'bdabac'\n",
    "a = [[0 for i in range(len(s2)+1)]for j in range(len(s1)+1)]\n",
    "for i in range(len(s1)+1):\n",
    "    for j in range(len(s2)+1):\n",
    "        if(i==0 or j==0):\n",
    "            a[i][j]=0\n",
    "        elif(s1[i-1]==s2[j-1]):\n",
    "            a[i][j]=a[i-1][j-1]+1\n",
    "        else:\n",
    "            a[i][j]=max(a[i-1][j],a[i][j-1])\n",
    "print(a[-1][-1])\n",
    "for i in a:\n",
    "    print(i)"
   ]
  },
  {
   "cell_type": "markdown",
   "id": "20c36f6f-ddc3-4a8c-8b50-47082195959b",
   "metadata": {},
   "source": [
    "# Subsets the give a specific sum using Dynamic Programming"
   ]
  },
  {
   "cell_type": "code",
   "execution_count": 46,
   "id": "4b27bd0b-f127-4811-a579-898e728bfe2b",
   "metadata": {},
   "outputs": [
    {
     "name": "stdout",
     "output_type": "stream",
     "text": [
      "[1, 0, 0, 0, 0, 0, 0, 0, 0, 0]\n",
      "[1, 0, 1, 0, 0, 0, 0, 0, 0, 0]\n",
      "[1, 0, 1, 1, 0, 1, 0, 0, 0, 0]\n",
      "[1, 0, 1, 1, 0, 1, 0, 1, 1, 0]\n",
      "[1, 0, 1, 1, 0, 1, 0, 1, 1, 1]\n",
      "---\n",
      "1\n"
     ]
    }
   ],
   "source": [
    "A=[2,3,5,7]\n",
    "sm=9\n",
    "ss=[[0 for i in range(sm+1)]for j in range(len(A)+1)]\n",
    "for i in range(len(A)+1):\n",
    "    for j in range(sm+1):\n",
    "        if(j==0):\n",
    "            ss[i][j]=1\n",
    "for i in range(1,len(A)+1):\n",
    "    for j in range(1,sm+1):\n",
    "        if(ss[i-1][j]==1):\n",
    "            ss[i][j]=1\n",
    "        else:\n",
    "            if(j>=A[i-1]):\n",
    "                ss[i][j]=ss[i-1][j-A[i-1]]\n",
    "            else:\n",
    "                ss[i][j]=0\n",
    "for i in ss:\n",
    "    print(i)\n",
    "print('---')\n",
    "print(ss[-1][-1])"
   ]
  },
  {
   "cell_type": "markdown",
   "id": "94b845c2-7ca0-435b-a6f4-b319c0ad2444",
   "metadata": {
    "jp-MarkdownHeadingCollapsed": true,
    "tags": []
   },
   "source": [
    "# Catalan's number"
   ]
  },
  {
   "cell_type": "code",
   "execution_count": 48,
   "id": "51f2e5d6-97b8-457b-8ad5-ed39c1387f26",
   "metadata": {},
   "outputs": [
    {
     "name": "stdout",
     "output_type": "stream",
     "text": [
      "1 2 5 14 42 132 429 1430 4862 16796 "
     ]
    }
   ],
   "source": [
    "def catalan(n):\n",
    "    if n <= 1:\n",
    "        return 1\n",
    "    res = 0\n",
    "    for i in range(n):\n",
    "        res += catalan(i) * catalan(n-i-1)\n",
    "    return res\n",
    "for i in range(1,11):\n",
    "    print(catalan(i), end=' ')"
   ]
  },
  {
   "cell_type": "code",
   "execution_count": null,
   "id": "31280efa-4d27-49b8-831d-ff2ce1e671a6",
   "metadata": {},
   "outputs": [],
   "source": []
  }
 ],
 "metadata": {
  "kernelspec": {
   "display_name": "Python 3 (ipykernel)",
   "language": "python",
   "name": "python3"
  },
  "language_info": {
   "codemirror_mode": {
    "name": "ipython",
    "version": 3
   },
   "file_extension": ".py",
   "mimetype": "text/x-python",
   "name": "python",
   "nbconvert_exporter": "python",
   "pygments_lexer": "ipython3",
   "version": "3.8.10"
  }
 },
 "nbformat": 4,
 "nbformat_minor": 5
}
