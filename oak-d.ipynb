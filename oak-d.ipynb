{
 "cells": [
  {
   "cell_type": "code",
   "execution_count": 2,
   "id": "377345a7-8483-4758-b5f3-1c5890de544f",
   "metadata": {},
   "outputs": [],
   "source": [
    "import cv2\n",
    "import depthai as dai\n",
    "import numpy as np"
   ]
  },
  {
   "cell_type": "code",
   "execution_count": 3,
   "id": "92eedda8-c991-48db-9473-ab04b18c3e30",
   "metadata": {},
   "outputs": [],
   "source": [
    "def getFrame(queue):\n",
    "    # Get frame from queue\n",
    "    frame = queue.get()\n",
    "    # Convert frame to OpenCV format and return\n",
    "    return frame.getCvFrame()"
   ]
  },
  {
   "cell_type": "code",
   "execution_count": 4,
   "id": "5a660fb5-df89-4e98-b938-16ef3ed690c6",
   "metadata": {},
   "outputs": [],
   "source": [
    "def getMonoCamera(pipeline, isLeft):\n",
    "    # Configure mono camera\n",
    "    mono = pipeline.createMonoCamera()\n",
    " \n",
    "    # Set Camera Resolution\n",
    "    mono.setResolution(dai.MonoCameraProperties.SensorResolution.THE_400_P)\n",
    "    if isLeft:\n",
    "        # Get left camera\n",
    "        mono.setBoardSocket(dai.CameraBoardSocket.LEFT)\n",
    "    else:\n",
    "        # Get right camera\n",
    "        mono.setBoardSocket(dai.CameraBoardSocket.RIGHT)\n",
    "    return mono"
   ]
  },
  {
   "cell_type": "code",
   "execution_count": 5,
   "id": "a1431e06-4b1c-4340-927a-415f1e505d04",
   "metadata": {},
   "outputs": [],
   "source": [
    "def getStereoPair(pipeline, monoLeft, monoRight):\n",
    " \n",
    "    # Configure stereo pair for depth estimation\n",
    "    stereo = pipeline.createStereoDepth()\n",
    " \n",
    "    # Checks occluded pixels and marks them as invalid\n",
    "    stereo.setLeftRightCheck(True)\n",
    " \n",
    "    # Configure left and right cameras to work as a stereo pair\n",
    "    monoLeft.out.link(stereo.left)\n",
    "    monoRight.out.link(stereo.right)\n",
    " \n",
    "    return stereo"
   ]
  },
  {
   "cell_type": "code",
   "execution_count": 6,
   "id": "d2f167c2-ee92-4966-bbd3-a7006b0ec783",
   "metadata": {},
   "outputs": [],
   "source": [
    "def mouseCallback(event, x, y, flags, param):\n",
    "    global mouseX, mouseY\n",
    "    if event == cv2.EVENT_LBUTTONDOWN:\n",
    "        mouseX = x\n",
    "        mouseY = y"
   ]
  },
  {
   "cell_type": "code",
   "execution_count": 7,
   "id": "7c12aa28-4f83-4257-a988-b9391183832a",
   "metadata": {},
   "outputs": [],
   "source": [
    "if __name__ == '__main__':\n",
    "    mouseX = 0\n",
    "    mouseY = 640\n",
    " \n",
    "    # Start defining a pipeline\n",
    "    pipeline = dai.Pipeline()\n",
    " \n",
    "    # Set up left and right cameras\n",
    "    monoLeft = getMonoCamera(pipeline, isLeft=True)\n",
    "    monoRight = getMonoCamera(pipeline, isLeft=False)\n",
    " \n",
    "    # Combine left and right cameras to form a stereo pair\n",
    "    stereo = getStereoPair(pipeline, monoLeft, monoRight)\n"
   ]
  },
  {
   "cell_type": "code",
   "execution_count": 8,
   "id": "d472bf37-8724-49e9-a7ff-5fd667626eae",
   "metadata": {},
   "outputs": [],
   "source": [
    "xoutDisp = pipeline.createXLinkOut()\n",
    "xoutDisp.setStreamName(\"disparity\")\n",
    " \n",
    "xoutRectifiedLeft = pipeline.createXLinkOut()\n",
    "xoutRectifiedLeft.setStreamName(\"rectifiedLeft\")\n",
    " \n",
    "xoutRectifiedRight = pipeline.createXLinkOut()\n",
    "xoutRectifiedRight.setStreamName(\"rectifiedRight\")\n",
    " \n",
    "stereo.disparity.link(xoutDisp.input)\n",
    "stereo.rectifiedLeft.link(xoutRectifiedLeft.input)\n",
    "stereo.rectifiedRight.link(xoutRectifiedRight.input)"
   ]
  },
  {
   "cell_type": "code",
   "execution_count": 12,
   "id": "b98452a5-1170-4b6a-8136-ef0c182043a8",
   "metadata": {},
   "outputs": [
    {
     "ename": "RuntimeError",
     "evalue": "No available devices",
     "output_type": "error",
     "traceback": [
      "\u001b[1;31m---------------------------------------------------------------------------\u001b[0m",
      "\u001b[1;31mRuntimeError\u001b[0m                              Traceback (most recent call last)",
      "Cell \u001b[1;32mIn [12], line 1\u001b[0m\n\u001b[1;32m----> 1\u001b[0m \u001b[38;5;28;01mwith\u001b[39;00m \u001b[43mdai\u001b[49m\u001b[38;5;241;43m.\u001b[39;49m\u001b[43mDevice\u001b[49m\u001b[43m(\u001b[49m\u001b[43mpipeline\u001b[49m\u001b[43m)\u001b[49m \u001b[38;5;28;01mas\u001b[39;00m device:\n\u001b[0;32m      2\u001b[0m      \u001b[38;5;66;03m# Output queues will be used to get the rgb frames and nn data from the outputs defined above\u001b[39;00m\n\u001b[0;32m      3\u001b[0m      disparityQueue \u001b[38;5;241m=\u001b[39m device\u001b[38;5;241m.\u001b[39mgetOutputQueue(name\u001b[38;5;241m=\u001b[39m\u001b[38;5;124m\"\u001b[39m\u001b[38;5;124mdisparity\u001b[39m\u001b[38;5;124m\"\u001b[39m, \n\u001b[0;32m      4\u001b[0m                                            maxSize\u001b[38;5;241m=\u001b[39m\u001b[38;5;241m1\u001b[39m, blocking\u001b[38;5;241m=\u001b[39m\u001b[38;5;28;01mFalse\u001b[39;00m)\n\u001b[0;32m      5\u001b[0m      rectifiedLeftQueue \u001b[38;5;241m=\u001b[39m device\u001b[38;5;241m.\u001b[39mgetOutputQueue(name\u001b[38;5;241m=\u001b[39m\u001b[38;5;124m\"\u001b[39m\u001b[38;5;124mrectifiedLeft\u001b[39m\u001b[38;5;124m\"\u001b[39m, \n\u001b[0;32m      6\u001b[0m                                            maxSize\u001b[38;5;241m=\u001b[39m\u001b[38;5;241m1\u001b[39m, blocking\u001b[38;5;241m=\u001b[39m\u001b[38;5;28;01mFalse\u001b[39;00m)\n",
      "\u001b[1;31mRuntimeError\u001b[0m: No available devices"
     ]
    }
   ],
   "source": [
    "with dai.Device(pipeline) as device:\n",
    "     # Output queues will be used to get the rgb frames and nn data from the outputs defined above\n",
    "     disparityQueue = device.getOutputQueue(name=\"disparity\", \n",
    "                                           maxSize=1, blocking=False)\n",
    "     rectifiedLeftQueue = device.getOutputQueue(name=\"rectifiedLeft\", \n",
    "                                           maxSize=1, blocking=False)\n",
    "     rectifiedRightQueue=device.getOutputQueue(name=\"rectifiedRight\", \n",
    "                                           maxSize=1, blocking=False)\n",
    " \n",
    "     # Calculate a multiplier for color mapping disparity map\n",
    "     disparityMultiplier = 255 / stereo.getMaxDisparity()\n",
    " \n",
    "     cv2.namedWindow(\"Stereo Pair\")\n",
    "     cv2.setMouseCallback(\"Stereo Pair\", mouseCallback)\n",
    " \n",
    "     # Variable use to toggle between side by side view and one frame view.\n",
    "     sideBySide = False"
   ]
  },
  {
   "cell_type": "code",
   "execution_count": 13,
   "id": "4d54e1b8-4263-4076-b33b-5893e8c8c7ef",
   "metadata": {},
   "outputs": [
    {
     "ename": "NameError",
     "evalue": "name 'disparityQueue' is not defined",
     "output_type": "error",
     "traceback": [
      "\u001b[1;31m---------------------------------------------------------------------------\u001b[0m",
      "\u001b[1;31mNameError\u001b[0m                                 Traceback (most recent call last)",
      "Cell \u001b[1;32mIn [13], line 3\u001b[0m\n\u001b[0;32m      1\u001b[0m \u001b[38;5;28;01mwhile\u001b[39;00m \u001b[38;5;28;01mTrue\u001b[39;00m:\n\u001b[0;32m      2\u001b[0m     \u001b[38;5;66;03m# Get the disparity map.\u001b[39;00m\n\u001b[1;32m----> 3\u001b[0m     disparity \u001b[38;5;241m=\u001b[39m getFrame(\u001b[43mdisparityQueue\u001b[49m)\n\u001b[0;32m      5\u001b[0m     \u001b[38;5;66;03m# Colormap disparity for display.\u001b[39;00m\n\u001b[0;32m      6\u001b[0m     disparity \u001b[38;5;241m=\u001b[39m (disparity \u001b[38;5;241m*\u001b[39m \n\u001b[0;32m      7\u001b[0m                  disparityMultiplier)\u001b[38;5;241m.\u001b[39mastype(np\u001b[38;5;241m.\u001b[39muint8)\n",
      "\u001b[1;31mNameError\u001b[0m: name 'disparityQueue' is not defined"
     ]
    }
   ],
   "source": [
    "while True:\n",
    "    # Get the disparity map.\n",
    "    disparity = getFrame(disparityQueue)\n",
    " \n",
    "    # Colormap disparity for display.\n",
    "    disparity = (disparity * \n",
    "                 disparityMultiplier).astype(np.uint8)\n",
    "    disparity = cv2.applyColorMap(disparity, cv2.COLORMAP_JET)\n",
    " \n",
    "    # Get the left and right rectified frame.\n",
    "    leftFrame = getFrame(rectifiedLeftQueue);\n",
    "    rightFrame = getFrame(rectifiedRightQueue)\n",
    " \n",
    "    if sideBySide:\n",
    "        # Show side by side view.\n",
    "        imOut = np.hstack((leftFrame, rightFrame))\n",
    "    else:\n",
    "        # Show overlapping frames.\n",
    "        imOut = np.uint8(leftFrame / 2 + rightFrame / 2)\n",
    "    # Convert to RGB.\n",
    "    imOut = cv2.cvtColor(imOut, cv2.COLOR_GRAY2RGB)\n",
    "    # Draw scan line.\n",
    "    imOut = cv2.line(imOut, (mouseX, mouseY), \n",
    "                    (1280, mouseY), (0, 0, 255), 2)\n",
    "    # Draw clicked point.\n",
    "    imOut = cv2.circle(imOut, (mouseX, mouseY), 2, \n",
    "                    (255, 255, 128), 2)\n",
    "    cv2.imshow(\"Stereo Pair\", imOut)\n",
    "    cv2.imshow(\"Disparity\", disparity)\n",
    " \n",
    "    # Check for keyboard input\n",
    "    key = cv2.waitKey(1)\n",
    "    if key == ord('q'):\n",
    "        # Quit when q is pressed\n",
    "        break\n",
    "    elif key == ord('t'):\n",
    "        # Toggle display when t is pressed\n",
    "        sideBySide = not sideBySide"
   ]
  },
  {
   "cell_type": "code",
   "execution_count": null,
   "id": "a8c3d39d-0f5b-420f-bbeb-93567a5b0809",
   "metadata": {},
   "outputs": [],
   "source": []
  }
 ],
 "metadata": {
  "kernelspec": {
   "display_name": "Sterio",
   "language": "python",
   "name": "sterio"
  },
  "language_info": {
   "codemirror_mode": {
    "name": "ipython",
    "version": 3
   },
   "file_extension": ".py",
   "mimetype": "text/x-python",
   "name": "python",
   "nbconvert_exporter": "python",
   "pygments_lexer": "ipython3",
   "version": "3.10.6"
  }
 },
 "nbformat": 4,
 "nbformat_minor": 5
}
