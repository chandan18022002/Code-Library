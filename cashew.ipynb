{
 "cells": [
  {
   "cell_type": "code",
   "execution_count": 188,
   "id": "25baf4d5-e5aa-4bc9-9ac0-2fe785f45dde",
   "metadata": {
    "tags": []
   },
   "outputs": [],
   "source": [
    "import cv2 \n",
    "import math\n",
    "import numpy as np\n",
    "import imutils\n",
    "from numba import jit, cuda\n",
    "from timeit import default_timer as timer\n",
    "import math as m\n",
    "from PIL import Image \n",
    "from IPython.display import clear_output\n",
    "\n",
    "from tensorflow import keras\n",
    "import keras.utils as image"
   ]
  },
  {
   "cell_type": "code",
   "execution_count": 209,
   "id": "eaefd1d4-581b-4d3d-98e1-b920329aa6c8",
   "metadata": {},
   "outputs": [],
   "source": [
    "def find_cntr_c(cam=0):\n",
    "    \n",
    "    cap = cv2.VideoCapture(int(cam),cv2.CAP_DSHOW)\n",
    "    model = keras.models.load_model('cashew_320_400.h5')\n",
    "    class_indices=['320','400']\n",
    "    while(True):\n",
    "        ret, img = cap.read()\n",
    "        img=img[80:,125:-50]\n",
    "        cv2.imwrite('snapshot.png', img)\n",
    "        \n",
    "        imag=cv2.blur(img, (10,10))\n",
    "        hsv = cv2.cvtColor(imag, cv2.COLOR_BGR2HSV)\n",
    "        mask = cv2.inRange(hsv, (23,50,100), (36, 150, 200))\n",
    "        target = cv2.bitwise_and(img,img, mask=mask)\n",
    "        \n",
    "        cnn_file = 'snapshot.png'\n",
    "        cnn_img = image.load_img(cnn_file, target_size=(150, 150))\n",
    "        cnn_img = image.img_to_array(cnn_img)\n",
    "        cnn_img = np.expand_dims(cnn_img, axis=0)\n",
    "        cnn_img = cnn_img/255\n",
    "        prediction_prob = model.predict(cnn_img,verbose=0)\n",
    "        print(prediction_prob[0][0])\n",
    "        if prediction_prob[0][0] < 0.5:\n",
    "            print(class_indices[0])\n",
    "            img = cv2.putText(img,class_indices[0], (50, 50),cv2.FONT_HERSHEY_SIMPLEX,1,(0, 0, 255), 2, cv2.LINE_AA)\n",
    "        else:\n",
    "            print(class_indices[1])\n",
    "        \n",
    "        cv2.namedWindow(\"original\", cv2.WINDOW_NORMAL)\n",
    "        cv2.resizeWindow(\"original\", 330, 255)\n",
    "        cv2.namedWindow(\"processed1\", cv2.WINDOW_NORMAL)        \n",
    "        cv2.resizeWindow(\"processed1\", 330, 255)\n",
    "        # cv2.namedWindow(\"processed2\", cv2.WINDOW_NORMAL)        \n",
    "        # cv2.resizeWindow(\"processed2\", 330, 255)\n",
    "        # cv2.namedWindow(\"processed3\", cv2.WINDOW_NORMAL)        \n",
    "        # cv2.resizeWindow(\"processed3\", 330, 255)\n",
    "        # cv2.namedWindow(\"processed4\", cv2.WINDOW_NORMAL)        \n",
    "        # cv2.resizeWindow(\"processed4\", 330, 255)\n",
    "\n",
    "        cv2.imshow('original', img)\n",
    "        cv2.imshow('processed1', target)\n",
    "        # cv2.imshow('processed2', fg)\n",
    "        # cv2.imshow('processed3', target)\n",
    "        # cv2.imshow('processed4', fimg)\n",
    "        \n",
    "\n",
    "        if cv2.waitKey(1) & 0xFF == ord('q'):\n",
    "            break\n",
    "        clear_output(wait=True)\n",
    "\n",
    "        # cv2.waitKey(0)\n",
    "    cap.release()\n",
    "    cv2.destroyAllWindows()"
   ]
  },
  {
   "cell_type": "code",
   "execution_count": 210,
   "id": "896fec43-1f66-43bc-bc13-da2e80f2aa22",
   "metadata": {
    "tags": []
   },
   "outputs": [
    {
     "name": "stdout",
     "output_type": "stream",
     "text": [
      "0.00011783208\n",
      "320\n"
     ]
    }
   ],
   "source": [
    "find_cntr_c(1)"
   ]
  },
  {
   "cell_type": "code",
   "execution_count": 199,
   "id": "38ccd03b-aa7d-410c-970e-28afc73bce1f",
   "metadata": {
    "tags": []
   },
   "outputs": [
    {
     "data": {
      "text/plain": [
       "0"
      ]
     },
     "execution_count": 199,
     "metadata": {},
     "output_type": "execute_result"
    }
   ],
   "source": [
    "class_indices={'320': 0, '400': 1}\n",
    "class_indices['320']"
   ]
  },
  {
   "cell_type": "code",
   "execution_count": null,
   "id": "fd42b710-892d-4030-af26-eff6b4b5fe48",
   "metadata": {},
   "outputs": [],
   "source": []
  },
  {
   "cell_type": "code",
   "execution_count": 120,
   "id": "6bf7226f-1ae0-4428-96e6-3707db348ff4",
   "metadata": {},
   "outputs": [],
   "source": [
    "import cv2\n",
    "import numpy as np\n",
    "\n",
    "## Read\n",
    "img = cv2.imread('snapshot.png')\n",
    "\n",
    "## convert to hsv\n",
    "hsv = cv2.cvtColor(img, cv2.COLOR_BGR2HSV)\n",
    "mask = cv2.inRange(hsv, (23,45,100), (36, 200, 200))\n",
    "target = cv2.bitwise_and(img,img, mask=mask)\n",
    "cv2.imwrite(\"target.png\", target)\n",
    "cv2.imshow(\"Image\", target)\n",
    "cv2.waitKey(0)\n",
    "cv2.destroyAllWindows()"
   ]
  },
  {
   "cell_type": "code",
   "execution_count": null,
   "id": "1365d8a2-d117-4357-8b10-1e1202216ac6",
   "metadata": {},
   "outputs": [],
   "source": []
  },
  {
   "cell_type": "code",
   "execution_count": 21,
   "id": "2b93e28c-7259-4ea3-a8c2-66a63c3835c8",
   "metadata": {
    "tags": []
   },
   "outputs": [],
   "source": []
  },
  {
   "cell_type": "code",
   "execution_count": 6,
   "id": "08054959-c528-4816-88bf-ef63c7d2a651",
   "metadata": {
    "tags": []
   },
   "outputs": [
    {
     "name": "stdout",
     "output_type": "stream",
     "text": [
      "0\n",
      "1\n",
      "2\n"
     ]
    }
   ],
   "source": [
    "import cv2\n",
    "import numpy as np\n",
    "print(0)\n",
    "# cam = cv2.VideoCapture(0)\n",
    "cam = cv2.VideoCapture(0,cv2.CAP_DSHOW)\n",
    "cam.set(3 , 1280 ) # width        \n",
    "cam.set(4 , 720  ) # height \n",
    "cam.set(28, 10)\n",
    "print(1)\n",
    "def edges(image):\n",
    "    med_val = np.median(image)\n",
    "    # blurred_img = image\n",
    "    blurred_img = cv2.blur(image,ksize=(2,2))\n",
    "    thr=9\n",
    "    lower = int(max(0, (thr//10)* med_val))\n",
    "    upper = int(min(255,(2-(thr//10))* med_val))\n",
    "    # return cv2.Canny(image=blurred_img, threshold1=lower , threshold2=upper)\n",
    "    return cv2.Canny(image=blurred_img, threshold1=30, threshold2=150)\n",
    "    \n",
    "# cv2.namedWindow(\"frame\", cv2.WINDOW_NORMAL)        \n",
    "# cv2.resizeWindow(\"frame\", 630, 455)\n",
    "\n",
    "# cv2.namedWindow(\"frame1\", cv2.WINDOW_NORMAL)        \n",
    "# cv2.resizeWindow(\"frame1\", 630, 455)\n",
    "\n",
    "print(2)\n",
    "while(True):\n",
    "    # print(3)\n",
    "    ret, frame = cam.read()\n",
    "    # print(4)\n",
    "    # frame=frame[100:-100,100:-100]\n",
    "    cv2.imshow('frame', frame)\n",
    "    # im=edges(frame)\n",
    "    # im,lim,p=contour(frame)\n",
    "    # print(p)\n",
    "    # cv2.imshow('frame1', im)\n",
    "    # cv2.imwrite('edge.jpg',im)\n",
    "    # cv2.imwrite('piece.jpg',frame)\n",
    "    \n",
    "    if cv2.waitKey(1) & 0xFF == ord('q'):\n",
    "        break\n",
    "    # clear_output(wait=True)\n",
    "    \n",
    "# cv2.waitKey(0)\n",
    "cam.release()\n",
    "cv2.destroyAllWindows()"
   ]
  },
  {
   "cell_type": "code",
   "execution_count": null,
   "id": "c77bb1f3-65ec-4fa4-9d9a-73ff75347c48",
   "metadata": {},
   "outputs": [],
   "source": [
    "image=cv2.blur(img, (10,10))\n",
    "hsv = cv2.cvtColor(image, cv2.COLOR_BGR2HSV)\n",
    "mask = cv2.inRange(hsv, (23,50,100), (36, 150, 200))\n",
    "target = cv2.bitwise_and(img,img, mask=mask)"
   ]
  }
 ],
 "metadata": {
  "kernelspec": {
   "display_name": "Python 3 (ipykernel)",
   "language": "python",
   "name": "python3"
  },
  "language_info": {
   "codemirror_mode": {
    "name": "ipython",
    "version": 3
   },
   "file_extension": ".py",
   "mimetype": "text/x-python",
   "name": "python",
   "nbconvert_exporter": "python",
   "pygments_lexer": "ipython3",
   "version": "3.8.2rc2"
  }
 },
 "nbformat": 4,
 "nbformat_minor": 5
}
