{
 "cells": [
  {
   "cell_type": "code",
   "execution_count": 1,
   "id": "381d16e3-2568-45ae-83cf-17112130e476",
   "metadata": {
    "scrolled": true,
    "tags": []
   },
   "outputs": [],
   "source": [
    "import cv2\n",
    "import numpy as np\n",
    "\n",
    "def edge(img):\n",
    "    #img = cv2.equalizeHist(img)\n",
    "    med_val = np.median(img)\n",
    "    blurred_img = cv2.blur(img,ksize=(1,1))\n",
    "    lower = int(max(0, 0.1* med_val))\n",
    "    upper = int(min(255,1.9 * med_val))\n",
    "    edges = cv2.Canny(image=blurred_img, threshold1=lower , threshold2=upper)\n",
    "    cnts = cv2.findContours(edges, cv2.RETR_CCOMP, cv2.CHAIN_APPROX_SIMPLE)\n",
    "    cnts = imutils.grab_contours(cnts)\n",
    "    x,y=img.shape\n",
    "    external_contours = np.zeros((x,y,3))\n",
    "    for c in cnts:\n",
    "        M = cv2.moments(c)\n",
    "        if M[\"m00\"] != 0:\n",
    "            cX = int(M[\"m10\"] / M[\"m00\"])\n",
    "            cY = int(M[\"m01\"] / M[\"m00\"])\n",
    "            cv2.drawContours(external_contours, [c], -1, (255, 255, 255), 2)\n",
    "    return external_contours\n",
    "\n",
    "# Capture the frame\n",
    "cap = cv2.VideoCapture(0)\n",
    "str_i=''\n",
    "for i in range(20):\n",
    "    str_i=str(i)\n",
    "    ret, img_o = cap.read()\n",
    "    path='dataset_new/Training/Defect-free/DF_'+str_i+'.jpg'\n",
    "    cv2.imwrite(path, img_o)\n",
    "    cv2.imshow(path,(img_o))\n",
    "    \n",
    "    cv2.waitKey(0)\n",
    "    \"\"\"\n",
    "    k = cv2.waitKey(30) & 0xff\n",
    "    if k == 27:\n",
    "        break\n",
    "    \"\"\"\n",
    "cap.release()\n",
    "cv2.destroyAllWindows()\n",
    "\n",
    "str_i=''\n",
    "for i in range(20):\n",
    "    print(i)\n",
    "    str_i=str(i)\n",
    "    path='dataset_new/Training/Defect-free/DF_'+str_i+'.jpg'\n",
    "    path1='dataset_new/Training/Defect-free-processed/DF_'+str_i+'.jpg'\n",
    "    img = cv2.imread(path,0)\n",
    "    img=edge(img)\n",
    "    cv2.imwrite(path1, img)"
   ]
  },
  {
   "cell_type": "code",
   "execution_count": 2,
   "id": "9fa43e34-5372-4726-a72b-1e703602182d",
   "metadata": {},
   "outputs": [],
   "source": [
    "import cv2 \n",
    "import time\n",
    "import numpy as np\n",
    "\n",
    "# Capture the frame\n",
    "cap = cv2.VideoCapture(0)\n",
    "str_i=''\n",
    "for i in range(100):\n",
    "    str_i=str(i)\n",
    "    ret, img_o = cap.read()\n",
    "    path='sample.jpg'\n",
    "    cv2.imwrite(path, img_o)\n",
    "    cv2.imshow(path,img_o)\n",
    "    time.sleep(0.5)\n",
    "    \n",
    "    #cv2.waitKey(0)\n",
    "    \n",
    "    k = cv2.waitKey(30) & 0xff\n",
    "    if k == 27:\n",
    "        break\n",
    "    \n",
    "cap.release()\n",
    "cv2.destroyAllWindows()"
   ]
  },
  {
   "cell_type": "code",
   "execution_count": null,
   "id": "13ffe977-2e22-4903-97f5-fd272feae54c",
   "metadata": {},
   "outputs": [],
   "source": [
    "import cv2 \n",
    "import time\n",
    "\n",
    "str_i=''\n",
    "for i in range(100,200):\n",
    "    print(i)\n",
    "    str_i=str(i)\n",
    "    path='dataset_new/Training/Defect-free/DF_'+str_i+'.jpg'\n",
    "    path1='dataset_new/Training/Defect-free-processed/DF_'+str_i+'.jpg'\n",
    "    img = cv2.imread(path,0)\n",
    "    img=edge(img)\n",
    "    cv2.imwrite(path1, img)"
   ]
  },
  {
   "cell_type": "code",
   "execution_count": null,
   "id": "17b7967f-c8b8-4cee-8faa-08e4d0d3129d",
   "metadata": {
    "tags": []
   },
   "outputs": [],
   "source": [
    "import cv2\n",
    "\n",
    "cam = cv2.VideoCapture(1,cv2.CAP_DSHOW)\n",
    "\n",
    "cv2.namedWindow(\"test\")\n",
    "\n",
    "img_counter = 0\n",
    "\n",
    "path_c_trn=\"cashew/cnn/train/\"\n",
    "path_c_tst=\"cashew/cnn/test/\"\n",
    "path_c_dep=\"cashew/cnn/deploy/\"\n",
    "path_k=\"cashew/knn/\"\n",
    "\n",
    "# # # clas='210/'\n",
    "# # # clas='240/'\n",
    "clas='320/'\n",
    "# clas='400/'\n",
    "\n",
    "while True:\n",
    "    ret, frame = cam.read()\n",
    "    if not ret:\n",
    "        print(\"failed to grab frame\")\n",
    "        break\n",
    "    frame=frame[:,125:-50]\n",
    "    cv2.imshow(\"test\", frame)\n",
    "\n",
    "    k = cv2.waitKey(1)\n",
    "    if k%256 == 27:\n",
    "        # ESC pressed\n",
    "        print(\"Escape hit, closing...\")\n",
    "        break\n",
    "    elif k%256 == 32:\n",
    "        # SPACE pressed\n",
    "        img_c_trn = path_c_trn+clas+\"{}.png\".format(img_counter)\n",
    "        img_c_tst = path_c_tst+clas+\"{}.png\".format(img_counter)\n",
    "        img_c_dep = path_c_dep+clas+\"{}.png\".format(img_counter)\n",
    "        img_k = path_k+clas+\"{}.png\".format(img_counter)\n",
    "\n",
    "        cv2.imwrite(img_k, frame)\n",
    "        if(img_counter%20<10):\n",
    "            cv2.imwrite(img_c_trn, frame)\n",
    "        elif(img_counter%20>=10 and img_counter%20<15):\n",
    "            cv2.imwrite(img_c_tst, frame)\n",
    "        else:\n",
    "            cv2.imwrite(img_c_dep, frame)\n",
    "        print(\"{} written!\".format(img_k))\n",
    "        img_counter += 1\n",
    "\n",
    "cam.release()\n",
    "cv2.destroyAllWindows()\n",
    "r=img_counter\n",
    "print(r)"
   ]
  },
  {
   "cell_type": "code",
   "execution_count": 22,
   "id": "f1ce5d54-2276-4823-8e99-900003a0b6e7",
   "metadata": {
    "tags": []
   },
   "outputs": [
    {
     "ename": "error",
     "evalue": "OpenCV(4.7.0) D:\\a\\opencv-python\\opencv-python\\opencv\\modules\\imgproc\\src\\box_filter.dispatch.cpp:446: error: (-215:Assertion failed) !_src.empty() in function 'cv::boxFilter'\n",
     "output_type": "error",
     "traceback": [
      "\u001b[1;31m---------------------------------------------------------------------------\u001b[0m",
      "\u001b[1;31merror\u001b[0m                                     Traceback (most recent call last)",
      "Cell \u001b[1;32mIn[22], line 21\u001b[0m\n\u001b[0;32m     18\u001b[0m \u001b[38;5;66;03m# print(img_name2)\u001b[39;00m\n\u001b[0;32m     19\u001b[0m img\u001b[38;5;241m=\u001b[39mcv2\u001b[38;5;241m.\u001b[39mimread(img_name1)\n\u001b[1;32m---> 21\u001b[0m image\u001b[38;5;241m=\u001b[39m\u001b[43mcv2\u001b[49m\u001b[38;5;241;43m.\u001b[39;49m\u001b[43mblur\u001b[49m\u001b[43m(\u001b[49m\u001b[43mimg\u001b[49m\u001b[43m,\u001b[49m\u001b[43m \u001b[49m\u001b[43m(\u001b[49m\u001b[38;5;241;43m10\u001b[39;49m\u001b[43m,\u001b[49m\u001b[38;5;241;43m10\u001b[39;49m\u001b[43m)\u001b[49m\u001b[43m)\u001b[49m\n\u001b[0;32m     22\u001b[0m hsv \u001b[38;5;241m=\u001b[39m cv2\u001b[38;5;241m.\u001b[39mcvtColor(image, cv2\u001b[38;5;241m.\u001b[39mCOLOR_BGR2HSV)\n\u001b[0;32m     23\u001b[0m mask \u001b[38;5;241m=\u001b[39m cv2\u001b[38;5;241m.\u001b[39minRange(hsv, (\u001b[38;5;241m23\u001b[39m,\u001b[38;5;241m38\u001b[39m,\u001b[38;5;241m100\u001b[39m), (\u001b[38;5;241m36\u001b[39m, \u001b[38;5;241m200\u001b[39m, \u001b[38;5;241m200\u001b[39m))\n",
      "\u001b[1;31merror\u001b[0m: OpenCV(4.7.0) D:\\a\\opencv-python\\opencv-python\\opencv\\modules\\imgproc\\src\\box_filter.dispatch.cpp:446: error: (-215:Assertion failed) !_src.empty() in function 'cv::boxFilter'\n"
     ]
    }
   ],
   "source": [
    "import cv2\n",
    "\n",
    "img_counter = 0\n",
    "\n",
    "path_c_trn=\"cashew/cnn/train/\"\n",
    "path_c_tst=\"cashew/cnn/test/\"\n",
    "path_c_dep=\"cashew/cnn/deploy/\"\n",
    "path_k=\"cashew/knn/\"\n",
    "\n",
    "apath_c_trn=\"cashew_mask/cnn/train/\"\n",
    "apath_c_tst=\"cashew_mask/cnn/test/\"\n",
    "apath_c_dep=\"cashew_mask/cnn/deploy/\"\n",
    "apath_k=\"cashew_mask/knn/\"\n",
    "\n",
    "# # # clas='210/'\n",
    "# # # clas='240/'\n",
    "clas='320/'\n",
    "# clas='400/'\n",
    "\n",
    "# r=1000\n",
    "def mask(img):\n",
    "    image=cv2.blur(img, (10,10))\n",
    "    hsv = cv2.cvtColor(image, cv2.COLOR_BGR2HSV)\n",
    "    mask = cv2.inRange(hsv, (23,38,100), (36, 200, 200))\n",
    "    target = cv2.bitwise_and(img,img, mask=mask)\n",
    "    return(target)\n",
    "    \n",
    "for _ in range(r):\n",
    "    img_c_trn = path_c_trn+clas+\"{}.png\".format(img_counter)\n",
    "    img_c_tst = path_c_tst+clas+\"{}.png\".format(img_counter)\n",
    "    img_c_dep = path_c_dep+clas+\"{}.png\".format(img_counter)\n",
    "    img_k = path_k+clas+\"{}.png\".format(img_counter)\n",
    "    \n",
    "    aimg_c_trn = apath_c_trn+clas+\"{}.png\".format(img_counter)\n",
    "    aimg_c_tst = apath_c_tst+clas+\"{}.png\".format(img_counter)\n",
    "    aimg_c_dep = apath_c_dep+clas+\"{}.png\".format(img_counter)\n",
    "    aimg_k = apath_k+clas+\"{}.png\".format(img_counter)\n",
    "    \n",
    "    # print(img_k)\n",
    "    cv2.imwrite(aimg_k, mask(cv2.imread(img_k)))\n",
    "    \n",
    "    if(img_counter%20<10):\n",
    "        cv2.imwrite(aimg_c_trn, mask(cv2.imread(img_c_trn)))\n",
    "    elif(img_counter%20>=10 and img_counter%20<15):\n",
    "        cv2.imwrite(aimg_c_tst, mask(cv2.imread(img_c_tst)))\n",
    "    else:\n",
    "        cv2.imwrite(aimg_c_dep, mask(cv2.imread(img_c_dep)))\n",
    "    \n",
    "    img_counter += 1"
   ]
  },
  {
   "cell_type": "code",
   "execution_count": 2,
   "id": "a3bc9294-ab00-4199-aca6-a06098c2d2a1",
   "metadata": {
    "tags": []
   },
   "outputs": [
    {
     "data": {
      "text/plain": [
       "4"
      ]
     },
     "execution_count": 2,
     "metadata": {},
     "output_type": "execute_result"
    }
   ],
   "source": [
    "4%20"
   ]
  },
  {
   "cell_type": "code",
   "execution_count": null,
   "id": "4b6bc1d2-ad61-4b4d-bb07-5c51025cd3c6",
   "metadata": {},
   "outputs": [],
   "source": [
    "image=cv2.blur(img, (10,10))\n",
    "hsv = cv2.cvtColor(image, cv2.COLOR_BGR2HSV)\n",
    "mask = cv2.inRange(hsv, (23,50,100), (36, 150, 200))\n",
    "target = cv2.bitwise_and(img,img, mask=mask)"
   ]
  }
 ],
 "metadata": {
  "kernelspec": {
   "display_name": "Python 3 (ipykernel)",
   "language": "python",
   "name": "python3"
  },
  "language_info": {
   "codemirror_mode": {
    "name": "ipython",
    "version": 3
   },
   "file_extension": ".py",
   "mimetype": "text/x-python",
   "name": "python",
   "nbconvert_exporter": "python",
   "pygments_lexer": "ipython3",
   "version": "3.8.2rc2"
  }
 },
 "nbformat": 4,
 "nbformat_minor": 5
}
