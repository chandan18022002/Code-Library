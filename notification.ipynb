{
 "cells": [
  {
   "cell_type": "code",
   "execution_count": 19,
   "id": "4b161594-048e-4ee4-b09f-d1c2bfaa3cef",
   "metadata": {},
   "outputs": [
    {
     "name": "stdout",
     "output_type": "stream",
     "text": [
      "Email sent successfully!\n"
     ]
    }
   ],
   "source": [
    "import smtplib\n",
    "\n",
    "gmail_user = '01fe20bar011@kletech.ac.in'\n",
    "gmail_password = '18022002Cr@'\n",
    "\n",
    "sent_from = gmail_user\n",
    "to = ['chandanranpur18@gmail.com','01fe20bme055@kletech.ac.in'] \n",
    "subject = 'Notification'\n",
    "body = 'sent from python'\n",
    "\n",
    "email_text = \"\"\"\\\n",
    "From: %s\n",
    "To: %s\n",
    "Subject: %s\n",
    "\n",
    "%s\n",
    "\"\"\" % (sent_from, \", \".join(to), subject, body)\n",
    "\n",
    "try:\n",
    "    smtp_server = smtplib.SMTP_SSL('smtp.gmail.com', 465)\n",
    "    smtp_server.ehlo()\n",
    "    smtp_server.login(gmail_user, gmail_password)\n",
    "    smtp_server.sendmail(sent_from, to, email_text)\n",
    "    smtp_server.close()\n",
    "    print (\"Email sent successfully!\")\n",
    "except Exception as ex:\n",
    "    print (\"Something went wrong….\",ex)"
   ]
  },
  {
   "cell_type": "code",
   "execution_count": null,
   "id": "0b79df02-5ea8-443c-bc5b-989766a6102f",
   "metadata": {},
   "outputs": [],
   "source": []
  }
 ],
 "metadata": {
  "kernelspec": {
   "display_name": "web",
   "language": "python",
   "name": "web"
  },
  "language_info": {
   "codemirror_mode": {
    "name": "ipython",
    "version": 3
   },
   "file_extension": ".py",
   "mimetype": "text/x-python",
   "name": "python",
   "nbconvert_exporter": "python",
   "pygments_lexer": "ipython3",
   "version": "3.10.6"
  }
 },
 "nbformat": 4,
 "nbformat_minor": 5
}
