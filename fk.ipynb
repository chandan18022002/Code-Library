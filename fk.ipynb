{
 "cells": [
  {
   "cell_type": "code",
   "execution_count": 2,
   "id": "a8c68942-e5f5-4f19-ae31-7a6130bc956d",
   "metadata": {
    "tags": []
   },
   "outputs": [],
   "source": [
    "import math as m"
   ]
  },
  {
   "cell_type": "code",
   "execution_count": 42,
   "id": "17d5491f-2c01-4477-acb1-95eff1d29c8d",
   "metadata": {
    "tags": []
   },
   "outputs": [
    {
     "name": "stdout",
     "output_type": "stream",
     "text": [
      "19.784279\n",
      "33.044732\n",
      "-73.522969\n",
      "-3.192442\n",
      "44.294967\n",
      "0.0\n"
     ]
    }
   ],
   "source": [
    "# x=383.556\n",
    "# y=0\n",
    "# z=107.444\n",
    "# al1=-45\n",
    "# al2=0\n",
    "# al3=0\n",
    "\n",
    "# x=282.215\n",
    "# y=0\n",
    "# z=383.215\n",
    "# al1=0\n",
    "# al2=0\n",
    "# al3=0\n",
    "\n",
    "# x=275.772\n",
    "# y=0\n",
    "# z=367.659\n",
    "# al1=-45\n",
    "# al2=0\n",
    "# al3=0\n",
    "\n",
    "# x=250\n",
    "# y=0\n",
    "# z=380\n",
    "# al1=0\n",
    "# al2=0\n",
    "# al3=0\n",
    "\n",
    "# x=200\n",
    "# y=0\n",
    "# z=400\n",
    "# al1=0\n",
    "# al2=0\n",
    "# al3=0\n",
    "\n",
    "x=300\n",
    "y=100\n",
    "z=123\n",
    "al1=0\n",
    "al2=0\n",
    "al3=0\n",
    "\n",
    "rad=3.14159265359/180\n",
    "deg=180/3.14159265359\n",
    "# p=1\n",
    "\n",
    "# x=x/100\n",
    "# y=y/100\n",
    "# z=z/100\n",
    "\n",
    "al1=al1*rad\n",
    "al2=al2*rad\n",
    "al3=al3*rad\n",
    "\n",
    "a=22*m.cos(al1)*m.cos(al2)\n",
    "b=22*m.cos(al1)*m.sin(al2)\n",
    "c=22*m.sin(al1)\n",
    "\n",
    "x1=x-a\n",
    "y1=y-b\n",
    "z1=z-123-c\n",
    "\n",
    "xy=m.sqrt((x1*x1)+(y1*y1))\n",
    "\n",
    "# print(x,y,z,al1,al2,al3)\n",
    "# print(x1,y1,z1,xy)\n",
    "\n",
    "if(y1<0):\n",
    "    tq1=-m.acos(x1/m.sqrt(y1**2+x1**2))\n",
    "else:\n",
    "    tq1=m.acos(x1/m.sqrt(y1**2+x1**2))\n",
    "\n",
    "if z1<0:\n",
    "    zs=-1\n",
    "else:\n",
    "    zs=1\n",
    "    \n",
    "tq2=m.acos(round((((xy**2+z1**2+200**2-168**2)/400)/m.sqrt(xy**2+z1**2)),7))+m.acos(round((xy/m.sqrt(xy**2+z1**2)),7))*zs\n",
    "\n",
    "if z1<200*m.sin(tq2):\n",
    "    tq3=-m.acos((xy-(200*m.cos(tq2)))/168)-tq2\n",
    "else:\n",
    "    tq3=m.acos((xy-(200*m.cos(tq2)))/168)-tq2\n",
    "    \n",
    "# print(tq1,tq2,tq3)\n",
    "# print(A,B,C)\n",
    "\n",
    "A=m.cos(tq2+tq3)*m.cos(tq1)\n",
    "B=m.cos(tq2+tq3)*m.sin(tq1)\n",
    "C=m.sin(tq2+tq3)\n",
    "\n",
    "d=-(A*x+B*y+C*(z-123))\n",
    "\n",
    "dn=(A*x1+B*y1+C*z1+d)\n",
    "\n",
    "# o=-dn/(A**2+B**2+C**2)\n",
    "\n",
    "# ox=x1+o*A\n",
    "# oy=y1+o*B\n",
    "# oz=z1+o*C\n",
    "\n",
    "# x2=x-ox\n",
    "# y2=y-oy\n",
    "# z2=z-123-oz\n",
    "\n",
    "# print(ox,oy,oz)\n",
    "# print(x,y,z)\n",
    "# print(x1,y1,z1)\n",
    "# print(x2,y2,z2)\n",
    "\n",
    "# if(z2<0):\n",
    "#     tq4=-m.asin(round(((x2*m.sin(-tq1)+y2*m.cos(-tq1))/(m.sqrt(y2**2+x2**2+z2**2))),12))\n",
    "# else:\n",
    "#     tq4=m.asin(round(((x2*m.sin(-tq1)+y2*m.cos(-tq1))/(m.sqrt(y2**2+x2**2+z2**2))),12))\n",
    "\n",
    "t=(A*(x1-x)+B*(y1-y)+C*(z1-z-123))/(A**2+B**2+C**2)\n",
    "ops=((x+t*A)*m.sin(-tq1)+(y+t*B)*m.cos(-tq1))\n",
    "hyp=m.sqrt((x-x1+t*A)**2+(y-y1+t*B)**2+(z-z1+t*C)**2)\n",
    "tq4=m.asin(ops/hyp)\n",
    "tq4*deg\n",
    "\n",
    "if(dn<0):\n",
    "    dn=-dn\n",
    "ds=dn/m.sqrt(A**2+B**2+C**2)\n",
    "\n",
    "tq5=m.acos((ds/22))\n",
    "\n",
    "tq6=al3\n",
    "\n",
    "# deg=1\n",
    "q1=deg*tq1\n",
    "q2=deg*tq2\n",
    "q3=deg*tq3\n",
    "q4=deg*tq4\n",
    "q5=deg*tq5\n",
    "q6=deg*tq6\n",
    "\n",
    "print(round(q1,6))\n",
    "print(round(q2,6))\n",
    "print(round(q3,6))\n",
    "print(round(q4,6))\n",
    "print(round(q5,6))\n",
    "print(round(q6,6))"
   ]
  },
  {
   "cell_type": "code",
   "execution_count": 32,
   "id": "f2b29155-ae16-42f8-8f7f-5a72c905959b",
   "metadata": {
    "tags": []
   },
   "outputs": [
    {
     "data": {
      "text/plain": [
       "0.6038463916270221"
      ]
     },
     "execution_count": 32,
     "metadata": {},
     "output_type": "execute_result"
    }
   ],
   "source": [
    "m.asin(round(((x2*x1+y2*y1)/(m.sqrt(y1**2+x1**2)*m.sqrt(y2**2+x2**2+z2**2))),12))"
   ]
  },
  {
   "cell_type": "code",
   "execution_count": 31,
   "id": "2747abcf-e296-40ac-98ac-c522f5ff197a",
   "metadata": {
    "tags": []
   },
   "outputs": [
    {
     "data": {
      "text/plain": [
       "0.0"
      ]
     },
     "execution_count": 31,
     "metadata": {},
     "output_type": "execute_result"
    }
   ],
   "source": [
    "(x2*x1+y2*y1)"
   ]
  },
  {
   "cell_type": "code",
   "execution_count": 29,
   "id": "c55b8a92-c0c7-43a2-bb98-da949ab9184e",
   "metadata": {
    "tags": []
   },
   "outputs": [
    {
     "data": {
      "text/plain": [
       "45982.332607209326"
      ]
     },
     "execution_count": 29,
     "metadata": {},
     "output_type": "execute_result"
    }
   ],
   "source": [
    "(m.sqrt(y1**2+x1**2)*m.sqrt(y2**2+x2**2+z2**2))"
   ]
  },
  {
   "cell_type": "code",
   "execution_count": 14,
   "id": "f07bf0cf-f3b8-4a4b-8cc9-76eb2fff304a",
   "metadata": {
    "tags": []
   },
   "outputs": [
    {
     "data": {
      "text/plain": [
       "0.8899538792794095"
      ]
     },
     "execution_count": 17,
     "metadata": {},
     "output_type": "execute_result"
    }
   ],
   "source": [
    "((xy-(200*m.cos(tq2)))/168)"
   ]
  },
  {
   "cell_type": "code",
   "execution_count": 15,
   "id": "660fb1ac-43e0-4ddf-9c74-121d1d5e7dda",
   "metadata": {
    "tags": []
   },
   "outputs": [
    {
     "data": {
      "text/plain": [
       "0.14243874140529594"
      ]
     },
     "execution_count": 15,
     "metadata": {},
     "output_type": "execute_result"
    }
   ],
   "source": [
    "m.cos(tq2)"
   ]
  },
  {
   "cell_type": "code",
   "execution_count": 16,
   "id": "e7e213c2-4931-42b4-95d5-9294bda8e649",
   "metadata": {
    "tags": []
   },
   "outputs": [
    {
     "data": {
      "text/plain": [
       "1.4278714823398442"
      ]
     },
     "execution_count": 16,
     "metadata": {},
     "output_type": "execute_result"
    }
   ],
   "source": [
    "tq2"
   ]
  },
  {
   "cell_type": "code",
   "execution_count": 6,
   "id": "5b159c5c-774e-49d2-9998-63eceb03e567",
   "metadata": {},
   "outputs": [],
   "source": [
    "import math as m\n",
    "\n",
    "def ik(x,y,z,al1=0,al2=0,al3=0):\n",
    "    rad=3.14159265359/180\n",
    "    deg=180/3.14159265359\n",
    "\n",
    "    al1=al1*rad\n",
    "    al2=al2*rad\n",
    "    al3=al3*rad\n",
    "\n",
    "    a=22*m.cos(al1)*m.cos(al2)\n",
    "    b=22*m.cos(al1)*m.sin(al2)\n",
    "    c=22*m.sin(al1)\n",
    "\n",
    "    x1=x-a\n",
    "    y1=y-b\n",
    "    z1=z-123-c\n",
    "\n",
    "    xy=m.sqrt((x1*x1)+(y1*y1))\n",
    "\n",
    "    tq1=m.acos(x1/m.sqrt(y1**2+x1**2))\n",
    "\n",
    "    tq2=m.acos(round((((xy**2+z1**2+200**2-168**2)/400)/m.sqrt(xy**2+z1**2)),2))+m.acos(round((xy/m.sqrt(xy**2+z1**2)),2))\n",
    "\n",
    "    tq3=m.acos(round(((xy-(200*m.cos(tq2)))/168),2))-tq2\n",
    "\n",
    "    A=m.cos(tq2+tq3)*m.cos(tq1)\n",
    "    B=m.cos(tq2+tq3)*m.sin(tq1)\n",
    "    C=m.sin(tq2+tq3)\n",
    "\n",
    "    d=-(A*x+B*y+C*z)\n",
    "\n",
    "    dn=(A*x1+B*y1+C*(z1+123)+d)\n",
    "\n",
    "    o=-dn/(A**2+B**2+C**2)\n",
    "    ox=x1+o*A\n",
    "    oy=y1+o*B\n",
    "    oz=z1+o*C\n",
    "\n",
    "    x2=x-ox\n",
    "    y2=y-oy\n",
    "    z2=z-oz\n",
    "\n",
    "    tq4=m.asin(round(((x2*x1+y2*y1)/(m.sqrt(y1**2+x1**2)*m.sqrt(y2**2+x2**2+z2**2))),2))\n",
    "\n",
    "    if(dn<0):\n",
    "        dn=-dn\n",
    "    ds=dn/m.sqrt(A**2+B**2+C**2)\n",
    "\n",
    "    tq5=m.acos((ds/22))\n",
    "\n",
    "    tq6=al3\n",
    "\n",
    "    deg=1\n",
    "    q1=deg*tq1\n",
    "    q2=deg*tq2\n",
    "    q3=deg*tq3\n",
    "    q4=deg*tq4\n",
    "    q5=deg*tq5\n",
    "    q6=deg*tq6\n",
    "\n",
    "    return (q1,q2,q3,q4,q5,q6)"
   ]
  },
  {
   "cell_type": "code",
   "execution_count": null,
   "id": "c371cf1f-ca13-41cc-ac7c-96c020a044ee",
   "metadata": {},
   "outputs": [],
   "source": []
  }
 ],
 "metadata": {
  "kernelspec": {
   "display_name": "Python 3 (ipykernel)",
   "language": "python",
   "name": "python3"
  },
  "language_info": {
   "codemirror_mode": {
    "name": "ipython",
    "version": 3
   },
   "file_extension": ".py",
   "mimetype": "text/x-python",
   "name": "python",
   "nbconvert_exporter": "python",
   "pygments_lexer": "ipython3",
   "version": "3.8.2rc2"
  }
 },
 "nbformat": 4,
 "nbformat_minor": 5
}
