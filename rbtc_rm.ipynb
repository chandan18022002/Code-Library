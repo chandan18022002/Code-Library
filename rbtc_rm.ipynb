{
 "cells": [
  {
   "cell_type": "code",
   "execution_count": 1,
   "id": "fe73a50b-7c5e-4c98-b26a-74ac5b5fa5f1",
   "metadata": {},
   "outputs": [
    {
     "data": {
      "text/plain": [
       "(t1, t2, t3, t4, t5)"
      ]
     },
     "execution_count": 1,
     "metadata": {},
     "output_type": "execute_result"
    }
   ],
   "source": [
    "from sympy import *\n",
    "var('q1 d1 a1 x1')\n",
    "var('q2 d2 a2 x2')\n",
    "var('q3 d3 a3 x3')\n",
    "var('q4 d4 a4 x4')\n",
    "var('q5 d5 a5 x5')\n",
    "var('q6 d6 a6 x6')\n",
    "var('x y z')\n",
    "var('t1 t2 t3 t4 t5')"
   ]
  },
  {
   "cell_type": "code",
   "execution_count": 2,
   "id": "778bc470-6dd0-4202-849a-06762a6f57e8",
   "metadata": {},
   "outputs": [
    {
     "data": {
      "text/latex": [
       "$\\displaystyle \\left[\\begin{matrix}\\cos{\\left(t_{1} \\right)} & 0 & \\sin{\\left(t_{1} \\right)} & 0\\\\\\sin{\\left(t_{1} \\right)} & 0 & - \\cos{\\left(t_{1} \\right)} & 0\\\\0 & 1 & 0 & 10\\\\0 & 0 & 0 & 1\\end{matrix}\\right]$"
      ],
      "text/plain": [
       "Matrix([\n",
       "[cos(t1), 0,  sin(t1),  0],\n",
       "[sin(t1), 0, -cos(t1),  0],\n",
       "[      0, 1,        0, 10],\n",
       "[      0, 0,        0,  1]])"
      ]
     },
     "execution_count": 2,
     "metadata": {},
     "output_type": "execute_result"
    }
   ],
   "source": [
    "A1 = Matrix([[ cos(q1),-sin(q1),       0,       0],\n",
    "             [ sin(q1), cos(q1),       0,       0],\n",
    "             [       0,       0,       1,       0],\n",
    "             [       0,       0,       0,       1]])\n",
    "\n",
    "B1 = Matrix([[       1,       0,       0,       a1],\n",
    "             [       0,       1,       0,       0],\n",
    "             [       0,       0,       1,       d1],\n",
    "             [       0,       0,       0,       1]])\n",
    "\n",
    "C1 = Matrix([[       1,       0,       0,       0],\n",
    "             [       0, cos(x1),-sin(x1),       0],\n",
    "             [       0, sin(x1), cos(x1),       0],\n",
    "             [       0,       0,       0,       1]])\n",
    "\n",
    "D1=A1*B1*C1\n",
    "E1=D1.subs([(q1,t1),\n",
    "            (d1,10),\n",
    "            (a1,0),\n",
    "            (x1,pi/2)])\n",
    "E1"
   ]
  },
  {
   "cell_type": "code",
   "execution_count": 3,
   "id": "9430ce97-afa7-4911-ac74-2a0af4b54c3e",
   "metadata": {},
   "outputs": [
    {
     "data": {
      "text/latex": [
       "$\\displaystyle \\left[\\begin{matrix}\\cos{\\left(t_{2} \\right)} & - \\sin{\\left(t_{2} \\right)} \\cos{\\left(t_{3} \\right)} & \\sin{\\left(t_{2} \\right)} \\sin{\\left(t_{3} \\right)} & 10 \\cos{\\left(t_{2} \\right)}\\\\\\sin{\\left(t_{2} \\right)} & \\cos{\\left(t_{2} \\right)} \\cos{\\left(t_{3} \\right)} & - \\sin{\\left(t_{3} \\right)} \\cos{\\left(t_{2} \\right)} & 10 \\sin{\\left(t_{2} \\right)}\\\\0 & \\sin{\\left(t_{3} \\right)} & \\cos{\\left(t_{3} \\right)} & 0\\\\0 & 0 & 0 & 1\\end{matrix}\\right]$"
      ],
      "text/plain": [
       "Matrix([\n",
       "[cos(t2), -sin(t2)*cos(t3),  sin(t2)*sin(t3), 10*cos(t2)],\n",
       "[sin(t2),  cos(t2)*cos(t3), -sin(t3)*cos(t2), 10*sin(t2)],\n",
       "[      0,          sin(t3),          cos(t3),          0],\n",
       "[      0,                0,                0,          1]])"
      ]
     },
     "execution_count": 3,
     "metadata": {},
     "output_type": "execute_result"
    }
   ],
   "source": [
    "A2 = Matrix([[ cos(q2),-sin(q2),       0,       0],\n",
    "             [ sin(q2), cos(q2),       0,       0],\n",
    "             [       0,       0,       1,       0],\n",
    "             [       0,       0,       0,       1]])\n",
    "\n",
    "B2 = Matrix([[       1,       0,       0,       a2],\n",
    "             [       0,       1,       0,       0],\n",
    "             [       0,       0,       1,       d2],\n",
    "             [       0,       0,       0,       1]])\n",
    "\n",
    "C2 = Matrix([[       1,       0,       0,       0],\n",
    "             [       0, cos(x2),-sin(x2),       0],\n",
    "             [       0, sin(x2), cos(x2),       0],\n",
    "             [       0,       0,       0,       1]])\n",
    "\n",
    "D2=A2*B2*C2\n",
    "E2=D2.subs([(q2,t2),\n",
    "            (d2,0),\n",
    "            (a2,10),\n",
    "            (x2,t3)])\n",
    "E2"
   ]
  },
  {
   "cell_type": "code",
   "execution_count": 4,
   "id": "acf91036-b86f-4d53-a50e-713360f125aa",
   "metadata": {},
   "outputs": [
    {
     "data": {
      "text/latex": [
       "$\\displaystyle \\left[\\begin{matrix}1 & 0 & 0 & 10\\\\0 & 0 & 1 & 0\\\\0 & -1 & 0 & 0\\\\0 & 0 & 0 & 1\\end{matrix}\\right]$"
      ],
      "text/plain": [
       "Matrix([\n",
       "[1,  0, 0, 10],\n",
       "[0,  0, 1,  0],\n",
       "[0, -1, 0,  0],\n",
       "[0,  0, 0,  1]])"
      ]
     },
     "execution_count": 4,
     "metadata": {},
     "output_type": "execute_result"
    }
   ],
   "source": [
    "A3 = Matrix([[ cos(q3),-sin(q3),       0,       0],\n",
    "             [ sin(q3), cos(q3),       0,       0],\n",
    "             [       0,       0,       1,       0],\n",
    "             [       0,       0,       0,       1]])\n",
    "\n",
    "B3 = Matrix([[       1,       0,       0,       a3],\n",
    "             [       0,       1,       0,       0],\n",
    "             [       0,       0,       1,       d3],\n",
    "             [       0,       0,       0,       1]])\n",
    "\n",
    "C3 = Matrix([[       1,       0,       0,       0],\n",
    "             [       0, cos(x3),-sin(x3),       0],\n",
    "             [       0, sin(x3), cos(x3),       0],\n",
    "             [       0,       0,       0,       1]])\n",
    "\n",
    "D3=A3*B3*C3\n",
    "E3=D3.subs([(q3,0),\n",
    "            (d3,0),\n",
    "            (a3,10),\n",
    "            (x3,-pi/2)])\n",
    "E3"
   ]
  },
  {
   "cell_type": "code",
   "execution_count": 5,
   "id": "5be94af3-ecbd-41f2-9d81-2fea31038cc3",
   "metadata": {},
   "outputs": [
    {
     "data": {
      "text/latex": [
       "$\\displaystyle \\left[\\begin{matrix}\\cos{\\left(t_{4} \\right)} & - \\sin{\\left(t_{4} \\right)} \\cos{\\left(t_{5} \\right)} & \\sin{\\left(t_{4} \\right)} \\sin{\\left(t_{5} \\right)} & 10 \\cos{\\left(t_{4} \\right)}\\\\\\sin{\\left(t_{4} \\right)} & \\cos{\\left(t_{4} \\right)} \\cos{\\left(t_{5} \\right)} & - \\sin{\\left(t_{5} \\right)} \\cos{\\left(t_{4} \\right)} & 10 \\sin{\\left(t_{4} \\right)}\\\\0 & \\sin{\\left(t_{5} \\right)} & \\cos{\\left(t_{5} \\right)} & 0\\\\0 & 0 & 0 & 1\\end{matrix}\\right]$"
      ],
      "text/plain": [
       "Matrix([\n",
       "[cos(t4), -sin(t4)*cos(t5),  sin(t4)*sin(t5), 10*cos(t4)],\n",
       "[sin(t4),  cos(t4)*cos(t5), -sin(t5)*cos(t4), 10*sin(t4)],\n",
       "[      0,          sin(t5),          cos(t5),          0],\n",
       "[      0,                0,                0,          1]])"
      ]
     },
     "execution_count": 5,
     "metadata": {},
     "output_type": "execute_result"
    }
   ],
   "source": [
    "A4 = Matrix([[ cos(q4),-sin(q4),       0,       0],\n",
    "             [ sin(q4), cos(q4),       0,       0],\n",
    "             [       0,       0,       1,       0],\n",
    "             [       0,       0,       0,       1]])\n",
    "\n",
    "B4 = Matrix([[       1,       0,       0,       a4],\n",
    "             [       0,       1,       0,       0],\n",
    "             [       0,       0,       1,       d4],\n",
    "             [       0,       0,       0,       1]])\n",
    "\n",
    "C4 = Matrix([[       1,       0,       0,       0],\n",
    "             [       0, cos(x4),-sin(x4),       0],\n",
    "             [       0, sin(x4), cos(x4),       0],\n",
    "             [       0,       0,       0,       1]])\n",
    "\n",
    "D4=A4*B4*C4\n",
    "E4=D4.subs([(q4,t4),\n",
    "            (d4,0),\n",
    "            (a4,10),\n",
    "            (x4,t5)])\n",
    "E4"
   ]
  },
  {
   "cell_type": "code",
   "execution_count": 6,
   "id": "84d2d56b-b2b6-4911-9e9b-9f1e586f3a49",
   "metadata": {},
   "outputs": [
    {
     "data": {
      "text/latex": [
       "$\\displaystyle \\left[\\begin{matrix}1 & 0 & 0 & 10\\\\0 & 1 & 0 & 0\\\\0 & 0 & 1 & 0\\\\0 & 0 & 0 & 1\\end{matrix}\\right]$"
      ],
      "text/plain": [
       "Matrix([\n",
       "[1, 0, 0, 10],\n",
       "[0, 1, 0,  0],\n",
       "[0, 0, 1,  0],\n",
       "[0, 0, 0,  1]])"
      ]
     },
     "execution_count": 6,
     "metadata": {},
     "output_type": "execute_result"
    }
   ],
   "source": [
    "A5 = Matrix([[ cos(q5),-sin(q5),       0,       0],\n",
    "             [ sin(q5), cos(q5),       0,       0],\n",
    "             [       0,       0,       1,       0],\n",
    "             [       0,       0,       0,       1]])\n",
    "\n",
    "B5 = Matrix([[       1,       0,       0,       a5],\n",
    "             [       0,       1,       0,       0],\n",
    "             [       0,       0,       1,       d5],\n",
    "             [       0,       0,       0,       1]])\n",
    "\n",
    "C5 = Matrix([[       1,       0,       0,       0],\n",
    "             [       0, cos(x5),-sin(x5),       0],\n",
    "             [       0, sin(x5), cos(x5),       0],\n",
    "             [       0,       0,       0,       1]])\n",
    "\n",
    "D5=A5*B5*C5\n",
    "E5=D5.subs([(q5,0),\n",
    "            (d5,0),\n",
    "            (a5,10),\n",
    "            (x5,0)])\n",
    "E5"
   ]
  },
  {
   "cell_type": "code",
   "execution_count": 7,
   "id": "4f97f855-5bfd-4b22-b289-5b6891fc481a",
   "metadata": {},
   "outputs": [
    {
     "data": {
      "text/latex": [
       "$\\displaystyle \\left[\\begin{matrix}\\left(- \\sin{\\left(t_{1} \\right)} \\cos{\\left(t_{3} \\right)} - \\sin{\\left(t_{2} \\right)} \\sin{\\left(t_{3} \\right)} \\cos{\\left(t_{1} \\right)}\\right) \\sin{\\left(t_{4} \\right)} + \\cos{\\left(t_{1} \\right)} \\cos{\\left(t_{2} \\right)} \\cos{\\left(t_{4} \\right)} & \\left(\\sin{\\left(t_{1} \\right)} \\sin{\\left(t_{3} \\right)} - \\sin{\\left(t_{2} \\right)} \\cos{\\left(t_{1} \\right)} \\cos{\\left(t_{3} \\right)}\\right) \\sin{\\left(t_{5} \\right)} + \\left(- \\sin{\\left(t_{1} \\right)} \\cos{\\left(t_{3} \\right)} - \\sin{\\left(t_{2} \\right)} \\sin{\\left(t_{3} \\right)} \\cos{\\left(t_{1} \\right)}\\right) \\cos{\\left(t_{4} \\right)} \\cos{\\left(t_{5} \\right)} - \\sin{\\left(t_{4} \\right)} \\cos{\\left(t_{1} \\right)} \\cos{\\left(t_{2} \\right)} \\cos{\\left(t_{5} \\right)} & \\left(\\sin{\\left(t_{1} \\right)} \\sin{\\left(t_{3} \\right)} - \\sin{\\left(t_{2} \\right)} \\cos{\\left(t_{1} \\right)} \\cos{\\left(t_{3} \\right)}\\right) \\cos{\\left(t_{5} \\right)} - \\left(- \\sin{\\left(t_{1} \\right)} \\cos{\\left(t_{3} \\right)} - \\sin{\\left(t_{2} \\right)} \\sin{\\left(t_{3} \\right)} \\cos{\\left(t_{1} \\right)}\\right) \\sin{\\left(t_{5} \\right)} \\cos{\\left(t_{4} \\right)} + \\sin{\\left(t_{4} \\right)} \\sin{\\left(t_{5} \\right)} \\cos{\\left(t_{1} \\right)} \\cos{\\left(t_{2} \\right)} & 20 \\left(- \\sin{\\left(t_{1} \\right)} \\cos{\\left(t_{3} \\right)} - \\sin{\\left(t_{2} \\right)} \\sin{\\left(t_{3} \\right)} \\cos{\\left(t_{1} \\right)}\\right) \\sin{\\left(t_{4} \\right)} + 20 \\cos{\\left(t_{1} \\right)} \\cos{\\left(t_{2} \\right)} \\cos{\\left(t_{4} \\right)} + 20 \\cos{\\left(t_{1} \\right)} \\cos{\\left(t_{2} \\right)}\\\\\\left(- \\sin{\\left(t_{1} \\right)} \\sin{\\left(t_{2} \\right)} \\sin{\\left(t_{3} \\right)} + \\cos{\\left(t_{1} \\right)} \\cos{\\left(t_{3} \\right)}\\right) \\sin{\\left(t_{4} \\right)} + \\sin{\\left(t_{1} \\right)} \\cos{\\left(t_{2} \\right)} \\cos{\\left(t_{4} \\right)} & \\left(- \\sin{\\left(t_{1} \\right)} \\sin{\\left(t_{2} \\right)} \\sin{\\left(t_{3} \\right)} + \\cos{\\left(t_{1} \\right)} \\cos{\\left(t_{3} \\right)}\\right) \\cos{\\left(t_{4} \\right)} \\cos{\\left(t_{5} \\right)} + \\left(- \\sin{\\left(t_{1} \\right)} \\sin{\\left(t_{2} \\right)} \\cos{\\left(t_{3} \\right)} - \\sin{\\left(t_{3} \\right)} \\cos{\\left(t_{1} \\right)}\\right) \\sin{\\left(t_{5} \\right)} - \\sin{\\left(t_{1} \\right)} \\sin{\\left(t_{4} \\right)} \\cos{\\left(t_{2} \\right)} \\cos{\\left(t_{5} \\right)} & - \\left(- \\sin{\\left(t_{1} \\right)} \\sin{\\left(t_{2} \\right)} \\sin{\\left(t_{3} \\right)} + \\cos{\\left(t_{1} \\right)} \\cos{\\left(t_{3} \\right)}\\right) \\sin{\\left(t_{5} \\right)} \\cos{\\left(t_{4} \\right)} + \\left(- \\sin{\\left(t_{1} \\right)} \\sin{\\left(t_{2} \\right)} \\cos{\\left(t_{3} \\right)} - \\sin{\\left(t_{3} \\right)} \\cos{\\left(t_{1} \\right)}\\right) \\cos{\\left(t_{5} \\right)} + \\sin{\\left(t_{1} \\right)} \\sin{\\left(t_{4} \\right)} \\sin{\\left(t_{5} \\right)} \\cos{\\left(t_{2} \\right)} & 20 \\left(- \\sin{\\left(t_{1} \\right)} \\sin{\\left(t_{2} \\right)} \\sin{\\left(t_{3} \\right)} + \\cos{\\left(t_{1} \\right)} \\cos{\\left(t_{3} \\right)}\\right) \\sin{\\left(t_{4} \\right)} + 20 \\sin{\\left(t_{1} \\right)} \\cos{\\left(t_{2} \\right)} \\cos{\\left(t_{4} \\right)} + 20 \\sin{\\left(t_{1} \\right)} \\cos{\\left(t_{2} \\right)}\\\\\\sin{\\left(t_{2} \\right)} \\cos{\\left(t_{4} \\right)} + \\sin{\\left(t_{3} \\right)} \\sin{\\left(t_{4} \\right)} \\cos{\\left(t_{2} \\right)} & - \\sin{\\left(t_{2} \\right)} \\sin{\\left(t_{4} \\right)} \\cos{\\left(t_{5} \\right)} + \\sin{\\left(t_{3} \\right)} \\cos{\\left(t_{2} \\right)} \\cos{\\left(t_{4} \\right)} \\cos{\\left(t_{5} \\right)} + \\sin{\\left(t_{5} \\right)} \\cos{\\left(t_{2} \\right)} \\cos{\\left(t_{3} \\right)} & \\sin{\\left(t_{2} \\right)} \\sin{\\left(t_{4} \\right)} \\sin{\\left(t_{5} \\right)} - \\sin{\\left(t_{3} \\right)} \\sin{\\left(t_{5} \\right)} \\cos{\\left(t_{2} \\right)} \\cos{\\left(t_{4} \\right)} + \\cos{\\left(t_{2} \\right)} \\cos{\\left(t_{3} \\right)} \\cos{\\left(t_{5} \\right)} & 20 \\sin{\\left(t_{2} \\right)} \\cos{\\left(t_{4} \\right)} + 20 \\sin{\\left(t_{2} \\right)} + 20 \\sin{\\left(t_{3} \\right)} \\sin{\\left(t_{4} \\right)} \\cos{\\left(t_{2} \\right)} + 10\\\\0 & 0 & 0 & 1\\end{matrix}\\right]$"
      ],
      "text/plain": [
       "Matrix([\n",
       "[(-sin(t1)*cos(t3) - sin(t2)*sin(t3)*cos(t1))*sin(t4) + cos(t1)*cos(t2)*cos(t4),  (sin(t1)*sin(t3) - sin(t2)*cos(t1)*cos(t3))*sin(t5) + (-sin(t1)*cos(t3) - sin(t2)*sin(t3)*cos(t1))*cos(t4)*cos(t5) - sin(t4)*cos(t1)*cos(t2)*cos(t5),   (sin(t1)*sin(t3) - sin(t2)*cos(t1)*cos(t3))*cos(t5) - (-sin(t1)*cos(t3) - sin(t2)*sin(t3)*cos(t1))*sin(t5)*cos(t4) + sin(t4)*sin(t5)*cos(t1)*cos(t2), 20*(-sin(t1)*cos(t3) - sin(t2)*sin(t3)*cos(t1))*sin(t4) + 20*cos(t1)*cos(t2)*cos(t4) + 20*cos(t1)*cos(t2)],\n",
       "[(-sin(t1)*sin(t2)*sin(t3) + cos(t1)*cos(t3))*sin(t4) + sin(t1)*cos(t2)*cos(t4), (-sin(t1)*sin(t2)*sin(t3) + cos(t1)*cos(t3))*cos(t4)*cos(t5) + (-sin(t1)*sin(t2)*cos(t3) - sin(t3)*cos(t1))*sin(t5) - sin(t1)*sin(t4)*cos(t2)*cos(t5), -(-sin(t1)*sin(t2)*sin(t3) + cos(t1)*cos(t3))*sin(t5)*cos(t4) + (-sin(t1)*sin(t2)*cos(t3) - sin(t3)*cos(t1))*cos(t5) + sin(t1)*sin(t4)*sin(t5)*cos(t2), 20*(-sin(t1)*sin(t2)*sin(t3) + cos(t1)*cos(t3))*sin(t4) + 20*sin(t1)*cos(t2)*cos(t4) + 20*sin(t1)*cos(t2)],\n",
       "[                                     sin(t2)*cos(t4) + sin(t3)*sin(t4)*cos(t2),                                                                  -sin(t2)*sin(t4)*cos(t5) + sin(t3)*cos(t2)*cos(t4)*cos(t5) + sin(t5)*cos(t2)*cos(t3),                                                                    sin(t2)*sin(t4)*sin(t5) - sin(t3)*sin(t5)*cos(t2)*cos(t4) + cos(t2)*cos(t3)*cos(t5),                                         20*sin(t2)*cos(t4) + 20*sin(t2) + 20*sin(t3)*sin(t4)*cos(t2) + 10],\n",
       "[                                                                             0,                                                                                                                                                     0,                                                                                                                                                      0,                                                                                                         1]])"
      ]
     },
     "execution_count": 7,
     "metadata": {},
     "output_type": "execute_result"
    }
   ],
   "source": [
    "E=E1*E2*E3*E4*E5\n",
    "E"
   ]
  },
  {
   "cell_type": "code",
   "execution_count": 8,
   "id": "8e75e011-db29-4692-b4fc-4a0f460053b1",
   "metadata": {},
   "outputs": [
    {
     "data": {
      "text/latex": [
       "$\\displaystyle \\left[\\begin{matrix}20 \\left(- \\sin{\\left(t_{1} \\right)} \\cos{\\left(t_{3} \\right)} - \\sin{\\left(t_{2} \\right)} \\sin{\\left(t_{3} \\right)} \\cos{\\left(t_{1} \\right)}\\right) \\sin{\\left(t_{4} \\right)} + 20 \\cos{\\left(t_{1} \\right)} \\cos{\\left(t_{2} \\right)} \\cos{\\left(t_{4} \\right)} + 20 \\cos{\\left(t_{1} \\right)} \\cos{\\left(t_{2} \\right)}\\\\20 \\left(- \\sin{\\left(t_{1} \\right)} \\sin{\\left(t_{2} \\right)} \\sin{\\left(t_{3} \\right)} + \\cos{\\left(t_{1} \\right)} \\cos{\\left(t_{3} \\right)}\\right) \\sin{\\left(t_{4} \\right)} + 20 \\sin{\\left(t_{1} \\right)} \\cos{\\left(t_{2} \\right)} \\cos{\\left(t_{4} \\right)} + 20 \\sin{\\left(t_{1} \\right)} \\cos{\\left(t_{2} \\right)}\\\\20 \\sin{\\left(t_{2} \\right)} \\cos{\\left(t_{4} \\right)} + 20 \\sin{\\left(t_{2} \\right)} + 20 \\sin{\\left(t_{3} \\right)} \\sin{\\left(t_{4} \\right)} \\cos{\\left(t_{2} \\right)} + 10\\end{matrix}\\right]$"
      ],
      "text/plain": [
       "Matrix([\n",
       "[20*(-sin(t1)*cos(t3) - sin(t2)*sin(t3)*cos(t1))*sin(t4) + 20*cos(t1)*cos(t2)*cos(t4) + 20*cos(t1)*cos(t2)],\n",
       "[20*(-sin(t1)*sin(t2)*sin(t3) + cos(t1)*cos(t3))*sin(t4) + 20*sin(t1)*cos(t2)*cos(t4) + 20*sin(t1)*cos(t2)],\n",
       "[                                        20*sin(t2)*cos(t4) + 20*sin(t2) + 20*sin(t3)*sin(t4)*cos(t2) + 10]])"
      ]
     },
     "execution_count": 8,
     "metadata": {},
     "output_type": "execute_result"
    }
   ],
   "source": [
    "F=E[:3,3]\n",
    "F"
   ]
  },
  {
   "cell_type": "code",
   "execution_count": 9,
   "id": "448f59d0-ed20-4c79-8283-859bbff0a367",
   "metadata": {},
   "outputs": [
    {
     "data": {
      "text/latex": [
       "$\\displaystyle \\sqrt{\\left(20 \\left(- \\sin{\\left(t_{1} \\right)} \\cos{\\left(t_{3} \\right)} - \\sin{\\left(t_{2} \\right)} \\sin{\\left(t_{3} \\right)} \\cos{\\left(t_{1} \\right)}\\right) \\sin{\\left(t_{4} \\right)} + 20 \\cos{\\left(t_{1} \\right)} \\cos{\\left(t_{2} \\right)} \\cos{\\left(t_{4} \\right)} + 20 \\cos{\\left(t_{1} \\right)} \\cos{\\left(t_{2} \\right)}\\right)^{2} + \\left(20 \\left(- \\sin{\\left(t_{1} \\right)} \\sin{\\left(t_{2} \\right)} \\sin{\\left(t_{3} \\right)} + \\cos{\\left(t_{1} \\right)} \\cos{\\left(t_{3} \\right)}\\right) \\sin{\\left(t_{4} \\right)} + 20 \\sin{\\left(t_{1} \\right)} \\cos{\\left(t_{2} \\right)} \\cos{\\left(t_{4} \\right)} + 20 \\sin{\\left(t_{1} \\right)} \\cos{\\left(t_{2} \\right)}\\right)^{2} + \\left(20 \\sin{\\left(t_{2} \\right)} \\cos{\\left(t_{4} \\right)} + 20 \\sin{\\left(t_{2} \\right)} + 20 \\sin{\\left(t_{3} \\right)} \\sin{\\left(t_{4} \\right)} \\cos{\\left(t_{2} \\right)} + 10\\right)^{2}}$"
      ],
      "text/plain": [
       "sqrt((20*(-sin(t1)*cos(t3) - sin(t2)*sin(t3)*cos(t1))*sin(t4) + 20*cos(t1)*cos(t2)*cos(t4) + 20*cos(t1)*cos(t2))**2 + (20*(-sin(t1)*sin(t2)*sin(t3) + cos(t1)*cos(t3))*sin(t4) + 20*sin(t1)*cos(t2)*cos(t4) + 20*sin(t1)*cos(t2))**2 + (20*sin(t2)*cos(t4) + 20*sin(t2) + 20*sin(t3)*sin(t4)*cos(t2) + 10)**2)"
      ]
     },
     "execution_count": 9,
     "metadata": {},
     "output_type": "execute_result"
    }
   ],
   "source": [
    "T=sqrt((E[0,3]**2)+(E[1,3]**2)+(E[2,3]**2))\n",
    "T"
   ]
  },
  {
   "cell_type": "code",
   "execution_count": 10,
   "id": "1467d051-0f6b-494b-8241-4d040c2c1554",
   "metadata": {},
   "outputs": [
    {
     "data": {
      "text/latex": [
       "$\\displaystyle \\sqrt{\\left(20 \\left(- \\sin{\\left(t_{1} \\right)} \\cos{\\left(t_{3} \\right)} - \\sin{\\left(t_{2} \\right)} \\sin{\\left(t_{3} \\right)} \\cos{\\left(t_{1} \\right)}\\right) \\sin{\\left(t_{4} \\right)} + 20 \\cos{\\left(t_{1} \\right)} \\cos{\\left(t_{2} \\right)} \\cos{\\left(t_{4} \\right)} + 20 \\cos{\\left(t_{1} \\right)} \\cos{\\left(t_{2} \\right)}\\right)^{2} + \\left(20 \\left(- \\sin{\\left(t_{1} \\right)} \\sin{\\left(t_{2} \\right)} \\sin{\\left(t_{3} \\right)} + \\cos{\\left(t_{1} \\right)} \\cos{\\left(t_{3} \\right)}\\right) \\sin{\\left(t_{4} \\right)} + 20 \\sin{\\left(t_{1} \\right)} \\cos{\\left(t_{2} \\right)} \\cos{\\left(t_{4} \\right)} + 20 \\sin{\\left(t_{1} \\right)} \\cos{\\left(t_{2} \\right)}\\right)^{2} + \\left(20 \\sin{\\left(t_{2} \\right)} \\cos{\\left(t_{4} \\right)} + 20 \\sin{\\left(t_{2} \\right)} + 20 \\sin{\\left(t_{3} \\right)} \\sin{\\left(t_{4} \\right)} \\cos{\\left(t_{2} \\right)} + 10\\right)^{2}}$"
      ],
      "text/plain": [
       "sqrt((20*(-sin(t1)*cos(t3) - sin(t2)*sin(t3)*cos(t1))*sin(t4) + 20*cos(t1)*cos(t2)*cos(t4) + 20*cos(t1)*cos(t2))**2 + (20*(-sin(t1)*sin(t2)*sin(t3) + cos(t1)*cos(t3))*sin(t4) + 20*sin(t1)*cos(t2)*cos(t4) + 20*sin(t1)*cos(t2))**2 + (20*sin(t2)*cos(t4) + 20*sin(t2) + 20*sin(t3)*sin(t4)*cos(t2) + 10)**2)"
      ]
     },
     "execution_count": 10,
     "metadata": {},
     "output_type": "execute_result"
    }
   ],
   "source": [
    "T.subs([(q1,0),\n",
    "        (q2,0),\n",
    "        (q3,0)])"
   ]
  },
  {
   "cell_type": "code",
   "execution_count": 20,
   "id": "921eec4f-1c7d-4529-99e1-7c2fa420db99",
   "metadata": {},
   "outputs": [
    {
     "data": {
      "text/latex": [
       "$\\displaystyle \\left[\\begin{matrix}20\\\\0\\\\10\\end{matrix}\\right]$"
      ],
      "text/plain": [
       "Matrix([\n",
       "[20],\n",
       "[ 0],\n",
       "[10]])"
      ]
     },
     "execution_count": 20,
     "metadata": {},
     "output_type": "execute_result"
    }
   ],
   "source": [
    "F.subs([(q1,0),\n",
    "        (q2,0),\n",
    "        (q3,0)])"
   ]
  },
  {
   "cell_type": "code",
   "execution_count": 44,
   "id": "5485a692-a487-43f9-a123-8e6fca2f15e0",
   "metadata": {},
   "outputs": [
    {
     "data": {
      "text/latex": [
       "$\\displaystyle \\operatorname{asin}{\\left(\\frac{\\sqrt{2} \\left(\\frac{z}{10} + \\frac{x + y}{10 \\sin{\\left(q_{1} \\right)} + 10 \\cos{\\left(q_{1} \\right)}} - 1\\right)}{2} \\right)} - \\frac{\\pi}{4}$"
      ],
      "text/plain": [
       "asin(sqrt(2)*(z/10 + (x + y)/(10*sin(q1) + 10*cos(q1)) - 1)/2) - pi/4"
      ]
     },
     "execution_count": 44,
     "metadata": {},
     "output_type": "execute_result"
    }
   ],
   "source": [
    "Q2x=acos(x/(10*cos(q1)))\n",
    "Q2y=acos(y/(10*sin(q1)))\n",
    "# Q2=acos((x+y)/(10*(cos(q1)+sin(q1))))\n",
    "# Q2=asin((z/10)-1)\n",
    "Q2=asin((((x+y)/(10*(cos(q1)+sin(q1))))+(z/10)-1)/sqrt(2))-(pi/4)\n",
    "Q2"
   ]
  },
  {
   "cell_type": "code",
   "execution_count": 9,
   "id": "c185795c-bbad-4881-b57a-3a8a9d3f83b4",
   "metadata": {},
   "outputs": [
    {
     "data": {
      "text/latex": [
       "$\\displaystyle \\operatorname{acos}{\\left(\\frac{x}{10 \\sqrt{1 - \\left(\\frac{z}{10} - 1\\right)^{2}}} \\right)}$"
      ],
      "text/plain": [
       "acos(x/(10*sqrt(1 - (z/10 - 1)**2)))"
      ]
     },
     "execution_count": 9,
     "metadata": {},
     "output_type": "execute_result"
    }
   ],
   "source": [
    "Q1y=asin(y/(10*cos(asin((z/10)-1))))\n",
    "Q1x=acos(x/(10*cos(asin((z/10)-1))))\n",
    "# Q1=atan(y/x)\n",
    "Q1x"
   ]
  },
  {
   "cell_type": "code",
   "execution_count": 46,
   "id": "36953827-4710-4db0-9565-d7db4be3b6a3",
   "metadata": {},
   "outputs": [
    {
     "data": {
      "text/latex": [
       "$\\displaystyle \\frac{\\pi}{2}$"
      ],
      "text/plain": [
       "pi/2"
      ]
     },
     "execution_count": 46,
     "metadata": {},
     "output_type": "execute_result"
    }
   ],
   "source": [
    "Q2y.subs([(y,0),\n",
    "         # (y,0),\n",
    "         # (z,10),\n",
    "         (q1,0)])\n",
    "# 10-(5*sqrt(2))\n",
    "# Q2.subs(z,(10-(5*sqrt(2))))"
   ]
  },
  {
   "cell_type": "code",
   "execution_count": 12,
   "id": "b805e30e-cca1-425d-b8de-5744909b7eb3",
   "metadata": {},
   "outputs": [
    {
     "data": {
      "text/latex": [
       "$\\displaystyle \\frac{\\pi}{2}$"
      ],
      "text/plain": [
       "pi/2"
      ]
     },
     "execution_count": 12,
     "metadata": {},
     "output_type": "execute_result"
    }
   ],
   "source": [
    "Q1x.subs([(x,0),\n",
    "          (z,20)])"
   ]
  },
  {
   "cell_type": "code",
   "execution_count": 12,
   "id": "9db375f2-b6ef-478b-9e65-4399f2845694",
   "metadata": {},
   "outputs": [
    {
     "data": {
      "text/plain": [
       "1.5714285"
      ]
     },
     "execution_count": 12,
     "metadata": {},
     "output_type": "execute_result"
    }
   ],
   "source": [
    "3.142857/2"
   ]
  },
  {
   "cell_type": "code",
   "execution_count": null,
   "id": "e2514d67-69cf-4cd1-8f4a-16d6961d6b96",
   "metadata": {},
   "outputs": [],
   "source": []
  }
 ],
 "metadata": {
  "kernelspec": {
   "display_name": "Python 3 (ipykernel)",
   "language": "python",
   "name": "python3"
  },
  "language_info": {
   "codemirror_mode": {
    "name": "ipython",
    "version": 3
   },
   "file_extension": ".py",
   "mimetype": "text/x-python",
   "name": "python",
   "nbconvert_exporter": "python",
   "pygments_lexer": "ipython3",
   "version": "3.8.10"
  }
 },
 "nbformat": 4,
 "nbformat_minor": 5
}
