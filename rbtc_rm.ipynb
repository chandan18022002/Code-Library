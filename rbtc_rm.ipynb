{
 "cells": [
  {
   "cell_type": "code",
   "execution_count": 1,
   "id": "fe73a50b-7c5e-4c98-b26a-74ac5b5fa5f1",
   "metadata": {
    "tags": []
   },
   "outputs": [
    {
     "data": {
      "text/plain": [
       "(t1, t2, t3, t4, t5, t6)"
      ]
     },
     "execution_count": 1,
     "metadata": {},
     "output_type": "execute_result"
    }
   ],
   "source": [
    "from sympy import *\n",
    "var('q1 d1 a1 x1')\n",
    "var('q2 d2 a2 x2')\n",
    "var('q3 d3 a3 x3')\n",
    "var('q4 d4 a4 x4')\n",
    "var('q5 d5 a5 x5')\n",
    "var('q6 d6 a6 x6')\n",
    "var('q7 d7 a7 x7')\n",
    "var('q8 d8 a8 x8')\n",
    "var('x y z')\n",
    "var('t1 t2 t3 t4 t5 t6')"
   ]
  },
  {
   "cell_type": "code",
   "execution_count": 2,
   "id": "778bc470-6dd0-4202-849a-06762a6f57e8",
   "metadata": {
    "tags": []
   },
   "outputs": [
    {
     "data": {
      "text/latex": [
       "$\\displaystyle \\left[\\begin{matrix}\\cos{\\left(t_{1} \\right)} & 0 & \\sin{\\left(t_{1} \\right)} & 0\\\\\\sin{\\left(t_{1} \\right)} & 0 & - \\cos{\\left(t_{1} \\right)} & 0\\\\0 & 1 & 0 & 0.123\\\\0 & 0 & 0 & 1\\end{matrix}\\right]$"
      ],
      "text/plain": [
       "Matrix([\n",
       "[cos(t1), 0,  sin(t1),     0],\n",
       "[sin(t1), 0, -cos(t1),     0],\n",
       "[      0, 1,        0, 0.123],\n",
       "[      0, 0,        0,     1]])"
      ]
     },
     "execution_count": 2,
     "metadata": {},
     "output_type": "execute_result"
    }
   ],
   "source": [
    "A1 = Matrix([[ cos(q1),-sin(q1),       0,       0],\n",
    "             [ sin(q1), cos(q1),       0,       0],\n",
    "             [       0,       0,       1,       0],\n",
    "             [       0,       0,       0,       1]])\n",
    "\n",
    "B1 = Matrix([[       1,       0,       0,       a1],\n",
    "             [       0,       1,       0,       0],\n",
    "             [       0,       0,       1,       d1],\n",
    "             [       0,       0,       0,       1]])\n",
    "\n",
    "C1 = Matrix([[       1,       0,       0,       0],\n",
    "             [       0, cos(x1),-sin(x1),       0],\n",
    "             [       0, sin(x1), cos(x1),       0],\n",
    "             [       0,       0,       0,       1]])\n",
    "\n",
    "D1=A1*B1*C1\n",
    "E1=D1.subs([(q1,t1),\n",
    "            (d1,.123),\n",
    "            (a1,0),\n",
    "            (x1,pi/2)])\n",
    "E1"
   ]
  },
  {
   "cell_type": "code",
   "execution_count": 3,
   "id": "9430ce97-afa7-4911-ac74-2a0af4b54c3e",
   "metadata": {
    "tags": []
   },
   "outputs": [
    {
     "data": {
      "text/latex": [
       "$\\displaystyle \\left[\\begin{matrix}\\cos{\\left(t_{2} \\right)} & - \\sin{\\left(t_{2} \\right)} & 0 & 0.2 \\cos{\\left(t_{2} \\right)}\\\\\\sin{\\left(t_{2} \\right)} & \\cos{\\left(t_{2} \\right)} & 0 & 0.2 \\sin{\\left(t_{2} \\right)}\\\\0 & 0 & 1 & 0\\\\0 & 0 & 0 & 1\\end{matrix}\\right]$"
      ],
      "text/plain": [
       "Matrix([\n",
       "[cos(t2), -sin(t2), 0, 0.2*cos(t2)],\n",
       "[sin(t2),  cos(t2), 0, 0.2*sin(t2)],\n",
       "[      0,        0, 1,           0],\n",
       "[      0,        0, 0,           1]])"
      ]
     },
     "execution_count": 3,
     "metadata": {},
     "output_type": "execute_result"
    }
   ],
   "source": [
    "A2 = Matrix([[ cos(q2),-sin(q2),       0,       0],\n",
    "             [ sin(q2), cos(q2),       0,       0],\n",
    "             [       0,       0,       1,       0],\n",
    "             [       0,       0,       0,       1]])\n",
    "\n",
    "B2 = Matrix([[       1,       0,       0,       a2],\n",
    "             [       0,       1,       0,       0],\n",
    "             [       0,       0,       1,       d2],\n",
    "             [       0,       0,       0,       1]])\n",
    "\n",
    "C2 = Matrix([[       1,       0,       0,       0],\n",
    "             [       0, cos(x2),-sin(x2),       0],\n",
    "             [       0, sin(x2), cos(x2),       0],\n",
    "             [       0,       0,       0,       1]])\n",
    "\n",
    "D2=A2*B2*C2\n",
    "E2=D2.subs([(q2,t2),\n",
    "            (d2,0),\n",
    "            (a2,0.2),\n",
    "            (x2,0)])\n",
    "E2"
   ]
  },
  {
   "cell_type": "code",
   "execution_count": 4,
   "id": "acf91036-b86f-4d53-a50e-713360f125aa",
   "metadata": {
    "tags": []
   },
   "outputs": [
    {
     "data": {
      "text/latex": [
       "$\\displaystyle \\left[\\begin{matrix}\\cos{\\left(t_{3} \\right)} & 0 & \\sin{\\left(t_{3} \\right)} & 0\\\\\\sin{\\left(t_{3} \\right)} & 0 & - \\cos{\\left(t_{3} \\right)} & 0\\\\0 & 1 & 0 & 0\\\\0 & 0 & 0 & 1\\end{matrix}\\right]$"
      ],
      "text/plain": [
       "Matrix([\n",
       "[cos(t3), 0,  sin(t3), 0],\n",
       "[sin(t3), 0, -cos(t3), 0],\n",
       "[      0, 1,        0, 0],\n",
       "[      0, 0,        0, 1]])"
      ]
     },
     "execution_count": 4,
     "metadata": {},
     "output_type": "execute_result"
    }
   ],
   "source": [
    "A3 = Matrix([[ cos(q3),-sin(q3),       0,       0],\n",
    "             [ sin(q3), cos(q3),       0,       0],\n",
    "             [       0,       0,       1,       0],\n",
    "             [       0,       0,       0,       1]])\n",
    "\n",
    "B3 = Matrix([[       1,       0,       0,       a3],\n",
    "             [       0,       1,       0,       0],\n",
    "             [       0,       0,       1,       d3],\n",
    "             [       0,       0,       0,       1]])\n",
    "\n",
    "C3 = Matrix([[       1,       0,       0,       0],\n",
    "             [       0, cos(x3),-sin(x3),       0],\n",
    "             [       0, sin(x3), cos(x3),       0],\n",
    "             [       0,       0,       0,       1]])\n",
    "\n",
    "D3=A3*B3*C3\n",
    "E3=D3.subs([(q3,t3),\n",
    "            (d3,0),\n",
    "            (a3,0),\n",
    "            (x3,pi/2)])\n",
    "E3"
   ]
  },
  {
   "cell_type": "code",
   "execution_count": 5,
   "id": "5be94af3-ecbd-41f2-9d81-2fea31038cc3",
   "metadata": {
    "tags": []
   },
   "outputs": [
    {
     "data": {
      "text/latex": [
       "$\\displaystyle \\left[\\begin{matrix}\\cos{\\left(t_{4} \\right)} & 0 & \\sin{\\left(t_{4} \\right)} & 0\\\\\\sin{\\left(t_{4} \\right)} & 0 & - \\cos{\\left(t_{4} \\right)} & 0\\\\0 & 1 & 0 & 0.168\\\\0 & 0 & 0 & 1\\end{matrix}\\right]$"
      ],
      "text/plain": [
       "Matrix([\n",
       "[cos(t4), 0,  sin(t4),     0],\n",
       "[sin(t4), 0, -cos(t4),     0],\n",
       "[      0, 1,        0, 0.168],\n",
       "[      0, 0,        0,     1]])"
      ]
     },
     "execution_count": 5,
     "metadata": {},
     "output_type": "execute_result"
    }
   ],
   "source": [
    "A4 = Matrix([[ cos(q4),-sin(q4),       0,       0],\n",
    "             [ sin(q4), cos(q4),       0,       0],\n",
    "             [       0,       0,       1,       0],\n",
    "             [       0,       0,       0,       1]])\n",
    "\n",
    "B4 = Matrix([[       1,       0,       0,       a4],\n",
    "             [       0,       1,       0,       0],\n",
    "             [       0,       0,       1,       d4],\n",
    "             [       0,       0,       0,       1]])\n",
    "\n",
    "C4 = Matrix([[       1,       0,       0,       0],\n",
    "             [       0, cos(x4),-sin(x4),       0],\n",
    "             [       0, sin(x4), cos(x4),       0],\n",
    "             [       0,       0,       0,       1]])\n",
    "\n",
    "D4=A4*B4*C4\n",
    "E4=D4.subs([(q4,t4),\n",
    "            (d4,0.168),\n",
    "            (a4,0),\n",
    "            (x4,pi/2)])\n",
    "E4"
   ]
  },
  {
   "cell_type": "code",
   "execution_count": 6,
   "id": "84d2d56b-b2b6-4911-9e9b-9f1e586f3a49",
   "metadata": {
    "tags": []
   },
   "outputs": [
    {
     "data": {
      "text/latex": [
       "$\\displaystyle \\left[\\begin{matrix}\\cos{\\left(t_{5} \\right)} & 0 & - \\sin{\\left(t_{5} \\right)} & 0\\\\\\sin{\\left(t_{5} \\right)} & 0 & \\cos{\\left(t_{5} \\right)} & 0\\\\0 & -1 & 0 & 0\\\\0 & 0 & 0 & 1\\end{matrix}\\right]$"
      ],
      "text/plain": [
       "Matrix([\n",
       "[cos(t5),  0, -sin(t5), 0],\n",
       "[sin(t5),  0,  cos(t5), 0],\n",
       "[      0, -1,        0, 0],\n",
       "[      0,  0,        0, 1]])"
      ]
     },
     "execution_count": 6,
     "metadata": {},
     "output_type": "execute_result"
    }
   ],
   "source": [
    "A5 = Matrix([[ cos(q5),-sin(q5),       0,       0],\n",
    "             [ sin(q5), cos(q5),       0,       0],\n",
    "             [       0,       0,       1,       0],\n",
    "             [       0,       0,       0,       1]])\n",
    "\n",
    "B5 = Matrix([[       1,       0,       0,       a5],\n",
    "             [       0,       1,       0,       0],\n",
    "             [       0,       0,       1,       d5],\n",
    "             [       0,       0,       0,       1]])\n",
    "\n",
    "C5 = Matrix([[       1,       0,       0,       0],\n",
    "             [       0, cos(x5),-sin(x5),       0],\n",
    "             [       0, sin(x5), cos(x5),       0],\n",
    "             [       0,       0,       0,       1]])\n",
    "\n",
    "D5=A5*B5*C5\n",
    "E5=D5.subs([(q5,t5),\n",
    "            (d5,0),\n",
    "            (a5,0),\n",
    "            (x5,-pi/2)])\n",
    "E5"
   ]
  },
  {
   "cell_type": "code",
   "execution_count": 7,
   "id": "91cc67af-6563-4529-887b-b544b73b6912",
   "metadata": {
    "tags": []
   },
   "outputs": [
    {
     "data": {
      "text/latex": [
       "$\\displaystyle \\left[\\begin{matrix}\\cos{\\left(t_{6} \\right)} & - \\sin{\\left(t_{6} \\right)} & 0 & 0\\\\\\sin{\\left(t_{6} \\right)} & \\cos{\\left(t_{6} \\right)} & 0 & 0\\\\0 & 0 & 1 & 0.022\\\\0 & 0 & 0 & 1\\end{matrix}\\right]$"
      ],
      "text/plain": [
       "Matrix([\n",
       "[cos(t6), -sin(t6), 0,     0],\n",
       "[sin(t6),  cos(t6), 0,     0],\n",
       "[      0,        0, 1, 0.022],\n",
       "[      0,        0, 0,     1]])"
      ]
     },
     "execution_count": 7,
     "metadata": {},
     "output_type": "execute_result"
    }
   ],
   "source": [
    "A6 = Matrix([[ cos(q6),-sin(q6),       0,       0],\n",
    "             [ sin(q6), cos(q6),       0,       0],\n",
    "             [       0,       0,       1,       0],\n",
    "             [       0,       0,       0,       1]])\n",
    "\n",
    "B6 = Matrix([[       1,       0,       0,       a6],\n",
    "             [       0,       1,       0,       0],\n",
    "             [       0,       0,       1,       d6],\n",
    "             [       0,       0,       0,       1]])\n",
    "\n",
    "C6 = Matrix([[       1,       0,       0,       0],\n",
    "             [       0, cos(x6),-sin(x6),       0],\n",
    "             [       0, sin(x6), cos(x6),       0],\n",
    "             [       0,       0,       0,       1]])\n",
    "\n",
    "D6=A6*B6*C6\n",
    "E6=D6.subs([(q6,t6),\n",
    "            (d6,0.022),\n",
    "            (a6,0),\n",
    "            (x6,0)])\n",
    "E6"
   ]
  },
  {
   "cell_type": "code",
   "execution_count": 8,
   "id": "5a6c40c1-ec46-478b-bd45-41517b4dd139",
   "metadata": {
    "tags": []
   },
   "outputs": [],
   "source": [
    "# A7 = Matrix([[ cos(q7),-sin(q7),       0,       0],\n",
    "#              [ sin(q7), cos(q7),       0,       0],\n",
    "#              [       0,       0,       1,       0],\n",
    "#              [       0,       0,       0,       1]])\n",
    "\n",
    "# B7 = Matrix([[       1,       0,       0,       a7],\n",
    "#              [       0,       1,       0,       0],\n",
    "#              [       0,       0,       1,       d7],\n",
    "#              [       0,       0,       0,       1]])\n",
    "\n",
    "# C7 = Matrix([[       1,       0,       0,       0],\n",
    "#              [       0, cos(x7),-sin(x7),       0],\n",
    "#              [       0, sin(x7), cos(x7),       0],\n",
    "#              [       0,       0,       0,       1]])\n",
    "\n",
    "# D7=A7*B7*C7\n",
    "# E7=D7.subs([(q7,t5),\n",
    "#             (d7,0),\n",
    "#             (a7,0),\n",
    "#             (x7,-pi/2)])\n",
    "# E7"
   ]
  },
  {
   "cell_type": "code",
   "execution_count": 9,
   "id": "5e94ce7b-f615-4b34-b262-e637a2991b3b",
   "metadata": {
    "tags": []
   },
   "outputs": [],
   "source": [
    "# A8 = Matrix([[ cos(q8),-sin(q8),       0,       0],\n",
    "#              [ sin(q8), cos(q8),       0,       0],\n",
    "#              [       0,       0,       1,       0],\n",
    "#              [       0,       0,       0,       1]])\n",
    "\n",
    "# B8 = Matrix([[       1,       0,       0,       a8],\n",
    "#              [       0,       1,       0,       0],\n",
    "#              [       0,       0,       1,       d8],\n",
    "#              [       0,       0,       0,       1]])\n",
    "\n",
    "# C8 = Matrix([[       1,       0,       0,       0],\n",
    "#              [       0, cos(x8),-sin(x8),       0],\n",
    "#              [       0, sin(x8), cos(x8),       0],\n",
    "#              [       0,       0,       0,       1]])\n",
    "\n",
    "# D8=A8*B8*C8\n",
    "# E8=D8.subs([(q8,t6),\n",
    "#             (d8,30),\n",
    "#             (a8,0),\n",
    "#             (x8,0)])\n",
    "# E8"
   ]
  },
  {
   "cell_type": "code",
   "execution_count": 10,
   "id": "4f97f855-5bfd-4b22-b289-5b6891fc481a",
   "metadata": {
    "tags": []
   },
   "outputs": [
    {
     "data": {
      "text/latex": [
       "$\\displaystyle \\left[\\begin{matrix}\\left(\\left(\\left(- \\sin{\\left(t_{2} \\right)} \\sin{\\left(t_{3} \\right)} \\cos{\\left(t_{1} \\right)} + \\cos{\\left(t_{1} \\right)} \\cos{\\left(t_{2} \\right)} \\cos{\\left(t_{3} \\right)}\\right) \\cos{\\left(t_{4} \\right)} + \\sin{\\left(t_{1} \\right)} \\sin{\\left(t_{4} \\right)}\\right) \\cos{\\left(t_{5} \\right)} + \\left(\\sin{\\left(t_{2} \\right)} \\cos{\\left(t_{1} \\right)} \\cos{\\left(t_{3} \\right)} + \\sin{\\left(t_{3} \\right)} \\cos{\\left(t_{1} \\right)} \\cos{\\left(t_{2} \\right)}\\right) \\sin{\\left(t_{5} \\right)}\\right) \\cos{\\left(t_{6} \\right)} + \\left(- \\left(- \\sin{\\left(t_{2} \\right)} \\sin{\\left(t_{3} \\right)} \\cos{\\left(t_{1} \\right)} + \\cos{\\left(t_{1} \\right)} \\cos{\\left(t_{2} \\right)} \\cos{\\left(t_{3} \\right)}\\right) \\sin{\\left(t_{4} \\right)} + \\sin{\\left(t_{1} \\right)} \\cos{\\left(t_{4} \\right)}\\right) \\sin{\\left(t_{6} \\right)} & - \\left(\\left(\\left(- \\sin{\\left(t_{2} \\right)} \\sin{\\left(t_{3} \\right)} \\cos{\\left(t_{1} \\right)} + \\cos{\\left(t_{1} \\right)} \\cos{\\left(t_{2} \\right)} \\cos{\\left(t_{3} \\right)}\\right) \\cos{\\left(t_{4} \\right)} + \\sin{\\left(t_{1} \\right)} \\sin{\\left(t_{4} \\right)}\\right) \\cos{\\left(t_{5} \\right)} + \\left(\\sin{\\left(t_{2} \\right)} \\cos{\\left(t_{1} \\right)} \\cos{\\left(t_{3} \\right)} + \\sin{\\left(t_{3} \\right)} \\cos{\\left(t_{1} \\right)} \\cos{\\left(t_{2} \\right)}\\right) \\sin{\\left(t_{5} \\right)}\\right) \\sin{\\left(t_{6} \\right)} + \\left(- \\left(- \\sin{\\left(t_{2} \\right)} \\sin{\\left(t_{3} \\right)} \\cos{\\left(t_{1} \\right)} + \\cos{\\left(t_{1} \\right)} \\cos{\\left(t_{2} \\right)} \\cos{\\left(t_{3} \\right)}\\right) \\sin{\\left(t_{4} \\right)} + \\sin{\\left(t_{1} \\right)} \\cos{\\left(t_{4} \\right)}\\right) \\cos{\\left(t_{6} \\right)} & - \\left(\\left(- \\sin{\\left(t_{2} \\right)} \\sin{\\left(t_{3} \\right)} \\cos{\\left(t_{1} \\right)} + \\cos{\\left(t_{1} \\right)} \\cos{\\left(t_{2} \\right)} \\cos{\\left(t_{3} \\right)}\\right) \\cos{\\left(t_{4} \\right)} + \\sin{\\left(t_{1} \\right)} \\sin{\\left(t_{4} \\right)}\\right) \\sin{\\left(t_{5} \\right)} + \\left(\\sin{\\left(t_{2} \\right)} \\cos{\\left(t_{1} \\right)} \\cos{\\left(t_{3} \\right)} + \\sin{\\left(t_{3} \\right)} \\cos{\\left(t_{1} \\right)} \\cos{\\left(t_{2} \\right)}\\right) \\cos{\\left(t_{5} \\right)} & - 0.022 \\left(\\left(- \\sin{\\left(t_{2} \\right)} \\sin{\\left(t_{3} \\right)} \\cos{\\left(t_{1} \\right)} + \\cos{\\left(t_{1} \\right)} \\cos{\\left(t_{2} \\right)} \\cos{\\left(t_{3} \\right)}\\right) \\cos{\\left(t_{4} \\right)} + \\sin{\\left(t_{1} \\right)} \\sin{\\left(t_{4} \\right)}\\right) \\sin{\\left(t_{5} \\right)} + 0.022 \\left(\\sin{\\left(t_{2} \\right)} \\cos{\\left(t_{1} \\right)} \\cos{\\left(t_{3} \\right)} + \\sin{\\left(t_{3} \\right)} \\cos{\\left(t_{1} \\right)} \\cos{\\left(t_{2} \\right)}\\right) \\cos{\\left(t_{5} \\right)} + 0.168 \\sin{\\left(t_{2} \\right)} \\cos{\\left(t_{1} \\right)} \\cos{\\left(t_{3} \\right)} + 0.168 \\sin{\\left(t_{3} \\right)} \\cos{\\left(t_{1} \\right)} \\cos{\\left(t_{2} \\right)} + 0.2 \\cos{\\left(t_{1} \\right)} \\cos{\\left(t_{2} \\right)}\\\\\\left(\\left(\\left(- \\sin{\\left(t_{1} \\right)} \\sin{\\left(t_{2} \\right)} \\sin{\\left(t_{3} \\right)} + \\sin{\\left(t_{1} \\right)} \\cos{\\left(t_{2} \\right)} \\cos{\\left(t_{3} \\right)}\\right) \\cos{\\left(t_{4} \\right)} - \\sin{\\left(t_{4} \\right)} \\cos{\\left(t_{1} \\right)}\\right) \\cos{\\left(t_{5} \\right)} + \\left(\\sin{\\left(t_{1} \\right)} \\sin{\\left(t_{2} \\right)} \\cos{\\left(t_{3} \\right)} + \\sin{\\left(t_{1} \\right)} \\sin{\\left(t_{3} \\right)} \\cos{\\left(t_{2} \\right)}\\right) \\sin{\\left(t_{5} \\right)}\\right) \\cos{\\left(t_{6} \\right)} + \\left(- \\left(- \\sin{\\left(t_{1} \\right)} \\sin{\\left(t_{2} \\right)} \\sin{\\left(t_{3} \\right)} + \\sin{\\left(t_{1} \\right)} \\cos{\\left(t_{2} \\right)} \\cos{\\left(t_{3} \\right)}\\right) \\sin{\\left(t_{4} \\right)} - \\cos{\\left(t_{1} \\right)} \\cos{\\left(t_{4} \\right)}\\right) \\sin{\\left(t_{6} \\right)} & - \\left(\\left(\\left(- \\sin{\\left(t_{1} \\right)} \\sin{\\left(t_{2} \\right)} \\sin{\\left(t_{3} \\right)} + \\sin{\\left(t_{1} \\right)} \\cos{\\left(t_{2} \\right)} \\cos{\\left(t_{3} \\right)}\\right) \\cos{\\left(t_{4} \\right)} - \\sin{\\left(t_{4} \\right)} \\cos{\\left(t_{1} \\right)}\\right) \\cos{\\left(t_{5} \\right)} + \\left(\\sin{\\left(t_{1} \\right)} \\sin{\\left(t_{2} \\right)} \\cos{\\left(t_{3} \\right)} + \\sin{\\left(t_{1} \\right)} \\sin{\\left(t_{3} \\right)} \\cos{\\left(t_{2} \\right)}\\right) \\sin{\\left(t_{5} \\right)}\\right) \\sin{\\left(t_{6} \\right)} + \\left(- \\left(- \\sin{\\left(t_{1} \\right)} \\sin{\\left(t_{2} \\right)} \\sin{\\left(t_{3} \\right)} + \\sin{\\left(t_{1} \\right)} \\cos{\\left(t_{2} \\right)} \\cos{\\left(t_{3} \\right)}\\right) \\sin{\\left(t_{4} \\right)} - \\cos{\\left(t_{1} \\right)} \\cos{\\left(t_{4} \\right)}\\right) \\cos{\\left(t_{6} \\right)} & - \\left(\\left(- \\sin{\\left(t_{1} \\right)} \\sin{\\left(t_{2} \\right)} \\sin{\\left(t_{3} \\right)} + \\sin{\\left(t_{1} \\right)} \\cos{\\left(t_{2} \\right)} \\cos{\\left(t_{3} \\right)}\\right) \\cos{\\left(t_{4} \\right)} - \\sin{\\left(t_{4} \\right)} \\cos{\\left(t_{1} \\right)}\\right) \\sin{\\left(t_{5} \\right)} + \\left(\\sin{\\left(t_{1} \\right)} \\sin{\\left(t_{2} \\right)} \\cos{\\left(t_{3} \\right)} + \\sin{\\left(t_{1} \\right)} \\sin{\\left(t_{3} \\right)} \\cos{\\left(t_{2} \\right)}\\right) \\cos{\\left(t_{5} \\right)} & - 0.022 \\left(\\left(- \\sin{\\left(t_{1} \\right)} \\sin{\\left(t_{2} \\right)} \\sin{\\left(t_{3} \\right)} + \\sin{\\left(t_{1} \\right)} \\cos{\\left(t_{2} \\right)} \\cos{\\left(t_{3} \\right)}\\right) \\cos{\\left(t_{4} \\right)} - \\sin{\\left(t_{4} \\right)} \\cos{\\left(t_{1} \\right)}\\right) \\sin{\\left(t_{5} \\right)} + 0.022 \\left(\\sin{\\left(t_{1} \\right)} \\sin{\\left(t_{2} \\right)} \\cos{\\left(t_{3} \\right)} + \\sin{\\left(t_{1} \\right)} \\sin{\\left(t_{3} \\right)} \\cos{\\left(t_{2} \\right)}\\right) \\cos{\\left(t_{5} \\right)} + 0.168 \\sin{\\left(t_{1} \\right)} \\sin{\\left(t_{2} \\right)} \\cos{\\left(t_{3} \\right)} + 0.168 \\sin{\\left(t_{1} \\right)} \\sin{\\left(t_{3} \\right)} \\cos{\\left(t_{2} \\right)} + 0.2 \\sin{\\left(t_{1} \\right)} \\cos{\\left(t_{2} \\right)}\\\\\\left(\\left(\\sin{\\left(t_{2} \\right)} \\sin{\\left(t_{3} \\right)} - \\cos{\\left(t_{2} \\right)} \\cos{\\left(t_{3} \\right)}\\right) \\sin{\\left(t_{5} \\right)} + \\left(\\sin{\\left(t_{2} \\right)} \\cos{\\left(t_{3} \\right)} + \\sin{\\left(t_{3} \\right)} \\cos{\\left(t_{2} \\right)}\\right) \\cos{\\left(t_{4} \\right)} \\cos{\\left(t_{5} \\right)}\\right) \\cos{\\left(t_{6} \\right)} - \\left(\\sin{\\left(t_{2} \\right)} \\cos{\\left(t_{3} \\right)} + \\sin{\\left(t_{3} \\right)} \\cos{\\left(t_{2} \\right)}\\right) \\sin{\\left(t_{4} \\right)} \\sin{\\left(t_{6} \\right)} & - \\left(\\left(\\sin{\\left(t_{2} \\right)} \\sin{\\left(t_{3} \\right)} - \\cos{\\left(t_{2} \\right)} \\cos{\\left(t_{3} \\right)}\\right) \\sin{\\left(t_{5} \\right)} + \\left(\\sin{\\left(t_{2} \\right)} \\cos{\\left(t_{3} \\right)} + \\sin{\\left(t_{3} \\right)} \\cos{\\left(t_{2} \\right)}\\right) \\cos{\\left(t_{4} \\right)} \\cos{\\left(t_{5} \\right)}\\right) \\sin{\\left(t_{6} \\right)} - \\left(\\sin{\\left(t_{2} \\right)} \\cos{\\left(t_{3} \\right)} + \\sin{\\left(t_{3} \\right)} \\cos{\\left(t_{2} \\right)}\\right) \\sin{\\left(t_{4} \\right)} \\cos{\\left(t_{6} \\right)} & \\left(\\sin{\\left(t_{2} \\right)} \\sin{\\left(t_{3} \\right)} - \\cos{\\left(t_{2} \\right)} \\cos{\\left(t_{3} \\right)}\\right) \\cos{\\left(t_{5} \\right)} - \\left(\\sin{\\left(t_{2} \\right)} \\cos{\\left(t_{3} \\right)} + \\sin{\\left(t_{3} \\right)} \\cos{\\left(t_{2} \\right)}\\right) \\sin{\\left(t_{5} \\right)} \\cos{\\left(t_{4} \\right)} & 0.022 \\left(\\sin{\\left(t_{2} \\right)} \\sin{\\left(t_{3} \\right)} - \\cos{\\left(t_{2} \\right)} \\cos{\\left(t_{3} \\right)}\\right) \\cos{\\left(t_{5} \\right)} - 0.022 \\left(\\sin{\\left(t_{2} \\right)} \\cos{\\left(t_{3} \\right)} + \\sin{\\left(t_{3} \\right)} \\cos{\\left(t_{2} \\right)}\\right) \\sin{\\left(t_{5} \\right)} \\cos{\\left(t_{4} \\right)} + 0.168 \\sin{\\left(t_{2} \\right)} \\sin{\\left(t_{3} \\right)} + 0.2 \\sin{\\left(t_{2} \\right)} - 0.168 \\cos{\\left(t_{2} \\right)} \\cos{\\left(t_{3} \\right)} + 0.123\\\\0 & 0 & 0 & 1\\end{matrix}\\right]$"
      ],
      "text/plain": [
       "Matrix([\n",
       "[(((-sin(t2)*sin(t3)*cos(t1) + cos(t1)*cos(t2)*cos(t3))*cos(t4) + sin(t1)*sin(t4))*cos(t5) + (sin(t2)*cos(t1)*cos(t3) + sin(t3)*cos(t1)*cos(t2))*sin(t5))*cos(t6) + (-(-sin(t2)*sin(t3)*cos(t1) + cos(t1)*cos(t2)*cos(t3))*sin(t4) + sin(t1)*cos(t4))*sin(t6), -(((-sin(t2)*sin(t3)*cos(t1) + cos(t1)*cos(t2)*cos(t3))*cos(t4) + sin(t1)*sin(t4))*cos(t5) + (sin(t2)*cos(t1)*cos(t3) + sin(t3)*cos(t1)*cos(t2))*sin(t5))*sin(t6) + (-(-sin(t2)*sin(t3)*cos(t1) + cos(t1)*cos(t2)*cos(t3))*sin(t4) + sin(t1)*cos(t4))*cos(t6), -((-sin(t2)*sin(t3)*cos(t1) + cos(t1)*cos(t2)*cos(t3))*cos(t4) + sin(t1)*sin(t4))*sin(t5) + (sin(t2)*cos(t1)*cos(t3) + sin(t3)*cos(t1)*cos(t2))*cos(t5), -0.022*((-sin(t2)*sin(t3)*cos(t1) + cos(t1)*cos(t2)*cos(t3))*cos(t4) + sin(t1)*sin(t4))*sin(t5) + 0.022*(sin(t2)*cos(t1)*cos(t3) + sin(t3)*cos(t1)*cos(t2))*cos(t5) + 0.168*sin(t2)*cos(t1)*cos(t3) + 0.168*sin(t3)*cos(t1)*cos(t2) + 0.2*cos(t1)*cos(t2)],\n",
       "[(((-sin(t1)*sin(t2)*sin(t3) + sin(t1)*cos(t2)*cos(t3))*cos(t4) - sin(t4)*cos(t1))*cos(t5) + (sin(t1)*sin(t2)*cos(t3) + sin(t1)*sin(t3)*cos(t2))*sin(t5))*cos(t6) + (-(-sin(t1)*sin(t2)*sin(t3) + sin(t1)*cos(t2)*cos(t3))*sin(t4) - cos(t1)*cos(t4))*sin(t6), -(((-sin(t1)*sin(t2)*sin(t3) + sin(t1)*cos(t2)*cos(t3))*cos(t4) - sin(t4)*cos(t1))*cos(t5) + (sin(t1)*sin(t2)*cos(t3) + sin(t1)*sin(t3)*cos(t2))*sin(t5))*sin(t6) + (-(-sin(t1)*sin(t2)*sin(t3) + sin(t1)*cos(t2)*cos(t3))*sin(t4) - cos(t1)*cos(t4))*cos(t6), -((-sin(t1)*sin(t2)*sin(t3) + sin(t1)*cos(t2)*cos(t3))*cos(t4) - sin(t4)*cos(t1))*sin(t5) + (sin(t1)*sin(t2)*cos(t3) + sin(t1)*sin(t3)*cos(t2))*cos(t5), -0.022*((-sin(t1)*sin(t2)*sin(t3) + sin(t1)*cos(t2)*cos(t3))*cos(t4) - sin(t4)*cos(t1))*sin(t5) + 0.022*(sin(t1)*sin(t2)*cos(t3) + sin(t1)*sin(t3)*cos(t2))*cos(t5) + 0.168*sin(t1)*sin(t2)*cos(t3) + 0.168*sin(t1)*sin(t3)*cos(t2) + 0.2*sin(t1)*cos(t2)],\n",
       "[                                                                                           ((sin(t2)*sin(t3) - cos(t2)*cos(t3))*sin(t5) + (sin(t2)*cos(t3) + sin(t3)*cos(t2))*cos(t4)*cos(t5))*cos(t6) - (sin(t2)*cos(t3) + sin(t3)*cos(t2))*sin(t4)*sin(t6),                                                                                            -((sin(t2)*sin(t3) - cos(t2)*cos(t3))*sin(t5) + (sin(t2)*cos(t3) + sin(t3)*cos(t2))*cos(t4)*cos(t5))*sin(t6) - (sin(t2)*cos(t3) + sin(t3)*cos(t2))*sin(t4)*cos(t6),                                                       (sin(t2)*sin(t3) - cos(t2)*cos(t3))*cos(t5) - (sin(t2)*cos(t3) + sin(t3)*cos(t2))*sin(t5)*cos(t4),                                                                       0.022*(sin(t2)*sin(t3) - cos(t2)*cos(t3))*cos(t5) - 0.022*(sin(t2)*cos(t3) + sin(t3)*cos(t2))*sin(t5)*cos(t4) + 0.168*sin(t2)*sin(t3) + 0.2*sin(t2) - 0.168*cos(t2)*cos(t3) + 0.123],\n",
       "[                                                                                                                                                                                                                                                           0,                                                                                                                                                                                                                                                             0,                                                                                                                                                       0,                                                                                                                                                                                                                                                         1]])"
      ]
     },
     "execution_count": 10,
     "metadata": {},
     "output_type": "execute_result"
    }
   ],
   "source": [
    "E=E1*E2*E3*E4*E5*E6#*E7*E8\n",
    "E"
   ]
  },
  {
   "cell_type": "code",
   "execution_count": 11,
   "id": "8e75e011-db29-4692-b4fc-4a0f460053b1",
   "metadata": {
    "tags": []
   },
   "outputs": [
    {
     "data": {
      "text/latex": [
       "$\\displaystyle \\left[\\begin{matrix}- 0.022 \\left(\\left(- \\sin{\\left(t_{2} \\right)} \\sin{\\left(t_{3} \\right)} \\cos{\\left(t_{1} \\right)} + \\cos{\\left(t_{1} \\right)} \\cos{\\left(t_{2} \\right)} \\cos{\\left(t_{3} \\right)}\\right) \\cos{\\left(t_{4} \\right)} + \\sin{\\left(t_{1} \\right)} \\sin{\\left(t_{4} \\right)}\\right) \\sin{\\left(t_{5} \\right)} + 0.022 \\left(\\sin{\\left(t_{2} \\right)} \\cos{\\left(t_{1} \\right)} \\cos{\\left(t_{3} \\right)} + \\sin{\\left(t_{3} \\right)} \\cos{\\left(t_{1} \\right)} \\cos{\\left(t_{2} \\right)}\\right) \\cos{\\left(t_{5} \\right)} + 0.168 \\sin{\\left(t_{2} \\right)} \\cos{\\left(t_{1} \\right)} \\cos{\\left(t_{3} \\right)} + 0.168 \\sin{\\left(t_{3} \\right)} \\cos{\\left(t_{1} \\right)} \\cos{\\left(t_{2} \\right)} + 0.2 \\cos{\\left(t_{1} \\right)} \\cos{\\left(t_{2} \\right)}\\\\- 0.022 \\left(\\left(- \\sin{\\left(t_{1} \\right)} \\sin{\\left(t_{2} \\right)} \\sin{\\left(t_{3} \\right)} + \\sin{\\left(t_{1} \\right)} \\cos{\\left(t_{2} \\right)} \\cos{\\left(t_{3} \\right)}\\right) \\cos{\\left(t_{4} \\right)} - \\sin{\\left(t_{4} \\right)} \\cos{\\left(t_{1} \\right)}\\right) \\sin{\\left(t_{5} \\right)} + 0.022 \\left(\\sin{\\left(t_{1} \\right)} \\sin{\\left(t_{2} \\right)} \\cos{\\left(t_{3} \\right)} + \\sin{\\left(t_{1} \\right)} \\sin{\\left(t_{3} \\right)} \\cos{\\left(t_{2} \\right)}\\right) \\cos{\\left(t_{5} \\right)} + 0.168 \\sin{\\left(t_{1} \\right)} \\sin{\\left(t_{2} \\right)} \\cos{\\left(t_{3} \\right)} + 0.168 \\sin{\\left(t_{1} \\right)} \\sin{\\left(t_{3} \\right)} \\cos{\\left(t_{2} \\right)} + 0.2 \\sin{\\left(t_{1} \\right)} \\cos{\\left(t_{2} \\right)}\\\\0.022 \\left(\\sin{\\left(t_{2} \\right)} \\sin{\\left(t_{3} \\right)} - \\cos{\\left(t_{2} \\right)} \\cos{\\left(t_{3} \\right)}\\right) \\cos{\\left(t_{5} \\right)} - 0.022 \\left(\\sin{\\left(t_{2} \\right)} \\cos{\\left(t_{3} \\right)} + \\sin{\\left(t_{3} \\right)} \\cos{\\left(t_{2} \\right)}\\right) \\sin{\\left(t_{5} \\right)} \\cos{\\left(t_{4} \\right)} + 0.168 \\sin{\\left(t_{2} \\right)} \\sin{\\left(t_{3} \\right)} + 0.2 \\sin{\\left(t_{2} \\right)} - 0.168 \\cos{\\left(t_{2} \\right)} \\cos{\\left(t_{3} \\right)} + 0.123\\end{matrix}\\right]$"
      ],
      "text/plain": [
       "Matrix([\n",
       "[-0.022*((-sin(t2)*sin(t3)*cos(t1) + cos(t1)*cos(t2)*cos(t3))*cos(t4) + sin(t1)*sin(t4))*sin(t5) + 0.022*(sin(t2)*cos(t1)*cos(t3) + sin(t3)*cos(t1)*cos(t2))*cos(t5) + 0.168*sin(t2)*cos(t1)*cos(t3) + 0.168*sin(t3)*cos(t1)*cos(t2) + 0.2*cos(t1)*cos(t2)],\n",
       "[-0.022*((-sin(t1)*sin(t2)*sin(t3) + sin(t1)*cos(t2)*cos(t3))*cos(t4) - sin(t4)*cos(t1))*sin(t5) + 0.022*(sin(t1)*sin(t2)*cos(t3) + sin(t1)*sin(t3)*cos(t2))*cos(t5) + 0.168*sin(t1)*sin(t2)*cos(t3) + 0.168*sin(t1)*sin(t3)*cos(t2) + 0.2*sin(t1)*cos(t2)],\n",
       "[                                                                      0.022*(sin(t2)*sin(t3) - cos(t2)*cos(t3))*cos(t5) - 0.022*(sin(t2)*cos(t3) + sin(t3)*cos(t2))*sin(t5)*cos(t4) + 0.168*sin(t2)*sin(t3) + 0.2*sin(t2) - 0.168*cos(t2)*cos(t3) + 0.123]])"
      ]
     },
     "execution_count": 11,
     "metadata": {},
     "output_type": "execute_result"
    }
   ],
   "source": [
    "F=E[:3,3]\n",
    "F"
   ]
  },
  {
   "cell_type": "code",
   "execution_count": 12,
   "id": "448f59d0-ed20-4c79-8283-859bbff0a367",
   "metadata": {
    "tags": []
   },
   "outputs": [
    {
     "data": {
      "text/latex": [
       "$\\displaystyle 0.2 \\sqrt{\\left(- 0.11 \\left(\\left(- \\sin{\\left(t_{1} \\right)} \\sin{\\left(t_{2} \\right)} \\sin{\\left(t_{3} \\right)} + \\sin{\\left(t_{1} \\right)} \\cos{\\left(t_{2} \\right)} \\cos{\\left(t_{3} \\right)}\\right) \\cos{\\left(t_{4} \\right)} - \\sin{\\left(t_{4} \\right)} \\cos{\\left(t_{1} \\right)}\\right) \\sin{\\left(t_{5} \\right)} + 0.11 \\left(\\sin{\\left(t_{1} \\right)} \\sin{\\left(t_{2} \\right)} \\cos{\\left(t_{3} \\right)} + \\sin{\\left(t_{1} \\right)} \\sin{\\left(t_{3} \\right)} \\cos{\\left(t_{2} \\right)}\\right) \\cos{\\left(t_{5} \\right)} + 0.84 \\sin{\\left(t_{1} \\right)} \\sin{\\left(t_{2} \\right)} \\cos{\\left(t_{3} \\right)} + 0.84 \\sin{\\left(t_{1} \\right)} \\sin{\\left(t_{3} \\right)} \\cos{\\left(t_{2} \\right)} + \\sin{\\left(t_{1} \\right)} \\cos{\\left(t_{2} \\right)}\\right)^{2} + \\left(- 0.11 \\left(\\left(- \\sin{\\left(t_{2} \\right)} \\sin{\\left(t_{3} \\right)} \\cos{\\left(t_{1} \\right)} + \\cos{\\left(t_{1} \\right)} \\cos{\\left(t_{2} \\right)} \\cos{\\left(t_{3} \\right)}\\right) \\cos{\\left(t_{4} \\right)} + \\sin{\\left(t_{1} \\right)} \\sin{\\left(t_{4} \\right)}\\right) \\sin{\\left(t_{5} \\right)} + 0.11 \\left(\\sin{\\left(t_{2} \\right)} \\cos{\\left(t_{1} \\right)} \\cos{\\left(t_{3} \\right)} + \\sin{\\left(t_{3} \\right)} \\cos{\\left(t_{1} \\right)} \\cos{\\left(t_{2} \\right)}\\right) \\cos{\\left(t_{5} \\right)} + 0.84 \\sin{\\left(t_{2} \\right)} \\cos{\\left(t_{1} \\right)} \\cos{\\left(t_{3} \\right)} + 0.84 \\sin{\\left(t_{3} \\right)} \\cos{\\left(t_{1} \\right)} \\cos{\\left(t_{2} \\right)} + \\cos{\\left(t_{1} \\right)} \\cos{\\left(t_{2} \\right)}\\right)^{2} + \\left(0.11 \\left(\\sin{\\left(t_{2} \\right)} \\sin{\\left(t_{3} \\right)} - \\cos{\\left(t_{2} \\right)} \\cos{\\left(t_{3} \\right)}\\right) \\cos{\\left(t_{5} \\right)} - 0.11 \\left(\\sin{\\left(t_{2} \\right)} \\cos{\\left(t_{3} \\right)} + \\sin{\\left(t_{3} \\right)} \\cos{\\left(t_{2} \\right)}\\right) \\sin{\\left(t_{5} \\right)} \\cos{\\left(t_{4} \\right)} + 0.84 \\sin{\\left(t_{2} \\right)} \\sin{\\left(t_{3} \\right)} + \\sin{\\left(t_{2} \\right)} - 0.84 \\cos{\\left(t_{2} \\right)} \\cos{\\left(t_{3} \\right)} + 0.615\\right)^{2}}$"
      ],
      "text/plain": [
       "0.2*sqrt((-0.11*((-sin(t1)*sin(t2)*sin(t3) + sin(t1)*cos(t2)*cos(t3))*cos(t4) - sin(t4)*cos(t1))*sin(t5) + 0.11*(sin(t1)*sin(t2)*cos(t3) + sin(t1)*sin(t3)*cos(t2))*cos(t5) + 0.84*sin(t1)*sin(t2)*cos(t3) + 0.84*sin(t1)*sin(t3)*cos(t2) + sin(t1)*cos(t2))**2 + (-0.11*((-sin(t2)*sin(t3)*cos(t1) + cos(t1)*cos(t2)*cos(t3))*cos(t4) + sin(t1)*sin(t4))*sin(t5) + 0.11*(sin(t2)*cos(t1)*cos(t3) + sin(t3)*cos(t1)*cos(t2))*cos(t5) + 0.84*sin(t2)*cos(t1)*cos(t3) + 0.84*sin(t3)*cos(t1)*cos(t2) + cos(t1)*cos(t2))**2 + (0.11*(sin(t2)*sin(t3) - cos(t2)*cos(t3))*cos(t5) - 0.11*(sin(t2)*cos(t3) + sin(t3)*cos(t2))*sin(t5)*cos(t4) + 0.84*sin(t2)*sin(t3) + sin(t2) - 0.84*cos(t2)*cos(t3) + 0.615)**2)"
      ]
     },
     "execution_count": 12,
     "metadata": {},
     "output_type": "execute_result"
    }
   ],
   "source": [
    "T=sqrt((E[0,3]**2)+(E[1,3]**2)+(E[2,3]**2))\n",
    "T"
   ]
  },
  {
   "cell_type": "code",
   "execution_count": 13,
   "id": "1467d051-0f6b-494b-8241-4d040c2c1554",
   "metadata": {
    "tags": []
   },
   "outputs": [
    {
     "data": {
      "text/latex": [
       "$\\displaystyle 0.210924156985396$"
      ],
      "text/plain": [
       "0.210924156985396"
      ]
     },
     "execution_count": 13,
     "metadata": {},
     "output_type": "execute_result"
    }
   ],
   "source": [
    "T.subs([(t1,0),\n",
    "        (t2,0),\n",
    "        (t3,0),\n",
    "        (t4,0),\n",
    "        (t5,0),\n",
    "        (t6,0)])"
   ]
  },
  {
   "cell_type": "code",
   "execution_count": 14,
   "id": "921eec4f-1c7d-4529-99e1-7c2fa420db99",
   "metadata": {
    "tags": []
   },
   "outputs": [
    {
     "data": {
      "text/latex": [
       "$\\displaystyle \\left[\\begin{matrix}0.2\\\\0\\\\0.313\\end{matrix}\\right]$"
      ],
      "text/plain": [
       "Matrix([\n",
       "[  0.2],\n",
       "[    0],\n",
       "[0.313]])"
      ]
     },
     "execution_count": 14,
     "metadata": {},
     "output_type": "execute_result"
    }
   ],
   "source": [
    "F.subs([(t1,0),\n",
    "        (t2,0),\n",
    "        (t3,pi),\n",
    "        (t4,0),\n",
    "        (t5,0),\n",
    "        (t6,0)])"
   ]
  },
  {
   "cell_type": "code",
   "execution_count": 15,
   "id": "5485a692-a487-43f9-a123-8e6fca2f15e0",
   "metadata": {},
   "outputs": [
    {
     "data": {
      "text/latex": [
       "$\\displaystyle \\operatorname{asin}{\\left(\\frac{\\sqrt{2} \\left(\\frac{z}{10} + \\frac{x + y}{10 \\sin{\\left(q_{1} \\right)} + 10 \\cos{\\left(q_{1} \\right)}} - 1\\right)}{2} \\right)} - \\frac{\\pi}{4}$"
      ],
      "text/plain": [
       "asin(sqrt(2)*(z/10 + (x + y)/(10*sin(q1) + 10*cos(q1)) - 1)/2) - pi/4"
      ]
     },
     "execution_count": 15,
     "metadata": {},
     "output_type": "execute_result"
    }
   ],
   "source": [
    "Q2x=acos(x/(10*cos(q1)))\n",
    "Q2y=acos(y/(10*sin(q1)))\n",
    "# Q2=acos((x+y)/(10*(cos(q1)+sin(q1))))\n",
    "# Q2=asin((z/10)-1)\n",
    "Q2=asin((((x+y)/(10*(cos(q1)+sin(q1))))+(z/10)-1)/sqrt(2))-(pi/4)\n",
    "Q2"
   ]
  },
  {
   "cell_type": "code",
   "execution_count": 16,
   "id": "c185795c-bbad-4881-b57a-3a8a9d3f83b4",
   "metadata": {},
   "outputs": [
    {
     "data": {
      "text/latex": [
       "$\\displaystyle \\operatorname{acos}{\\left(\\frac{x}{10 \\sqrt{1 - \\left(\\frac{z}{10} - 1\\right)^{2}}} \\right)}$"
      ],
      "text/plain": [
       "acos(x/(10*sqrt(1 - (z/10 - 1)**2)))"
      ]
     },
     "execution_count": 16,
     "metadata": {},
     "output_type": "execute_result"
    }
   ],
   "source": [
    "Q1y=asin(y/(10*cos(asin((z/10)-1))))\n",
    "Q1x=acos(x/(10*cos(asin((z/10)-1))))\n",
    "# Q1=atan(y/x)\n",
    "Q1x"
   ]
  },
  {
   "cell_type": "code",
   "execution_count": 17,
   "id": "36953827-4710-4db0-9565-d7db4be3b6a3",
   "metadata": {},
   "outputs": [
    {
     "data": {
      "text/latex": [
       "$\\displaystyle \\frac{\\pi}{2}$"
      ],
      "text/plain": [
       "pi/2"
      ]
     },
     "execution_count": 17,
     "metadata": {},
     "output_type": "execute_result"
    }
   ],
   "source": [
    "Q2y.subs([(y,0),\n",
    "         # (y,0),\n",
    "         # (z,10),\n",
    "         (q1,0)])\n",
    "# 10-(5*sqrt(2))\n",
    "# Q2.subs(z,(10-(5*sqrt(2))))"
   ]
  },
  {
   "cell_type": "code",
   "execution_count": 18,
   "id": "b805e30e-cca1-425d-b8de-5744909b7eb3",
   "metadata": {},
   "outputs": [
    {
     "data": {
      "text/latex": [
       "$\\displaystyle \\frac{\\pi}{2}$"
      ],
      "text/plain": [
       "pi/2"
      ]
     },
     "execution_count": 18,
     "metadata": {},
     "output_type": "execute_result"
    }
   ],
   "source": [
    "Q1x.subs([(x,0),\n",
    "          (z,20)])"
   ]
  },
  {
   "cell_type": "code",
   "execution_count": 19,
   "id": "9db375f2-b6ef-478b-9e65-4399f2845694",
   "metadata": {},
   "outputs": [
    {
     "data": {
      "text/plain": [
       "1.5714285"
      ]
     },
     "execution_count": 19,
     "metadata": {},
     "output_type": "execute_result"
    }
   ],
   "source": [
    "3.142857/2"
   ]
  },
  {
   "cell_type": "code",
   "execution_count": null,
   "id": "e2514d67-69cf-4cd1-8f4a-16d6961d6b96",
   "metadata": {},
   "outputs": [],
   "source": []
  }
 ],
 "metadata": {
  "kernelspec": {
   "display_name": "Python 3 (ipykernel)",
   "language": "python",
   "name": "python3"
  },
  "language_info": {
   "codemirror_mode": {
    "name": "ipython",
    "version": 3
   },
   "file_extension": ".py",
   "mimetype": "text/x-python",
   "name": "python",
   "nbconvert_exporter": "python",
   "pygments_lexer": "ipython3",
   "version": "3.8.2rc2"
  }
 },
 "nbformat": 4,
 "nbformat_minor": 5
}
